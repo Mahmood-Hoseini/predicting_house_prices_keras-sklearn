{
 "cells": [
  {
   "cell_type": "markdown",
   "metadata": {},
   "source": [
    "# Predicting house price with Gaussian process regression\n",
    "\n",
    "A competition project from Kaggle (https://www.kaggle.com/c/house-prices-advanced-regression-techniques/)\n",
    "\n",
    "Let's get started!"
   ]
  },
  {
   "cell_type": "markdown",
   "metadata": {},
   "source": [
    "Uncomment and run the cell below to install the Libararies we are going to use in this notebook. Skip if you have them already."
   ]
  },
  {
   "cell_type": "code",
   "execution_count": 1,
   "metadata": {},
   "outputs": [],
   "source": [
    "#!pip3 install -U scikit-learn"
   ]
  },
  {
   "cell_type": "code",
   "execution_count": 13,
   "metadata": {},
   "outputs": [],
   "source": [
    "import numpy as np\n",
    "import matplotlib.pylab as plt\n",
    "import pandas as pd\n",
    "from sklearn import preprocessing, model_selection, gaussian_process\n",
    "\n",
    "%matplotlib inline"
   ]
  },
  {
   "cell_type": "markdown",
   "metadata": {},
   "source": [
    "Load the training dataset and see what are the features does it have"
   ]
  },
  {
   "cell_type": "code",
   "execution_count": 33,
   "metadata": {},
   "outputs": [],
   "source": [
    "train = pd.read_csv('train.csv')"
   ]
  },
  {
   "cell_type": "markdown",
   "metadata": {},
   "source": [
    "Remove the first column (house Ids). Let see what percentage of data are missing in each column and drop the ones that have too many missing values"
   ]
  },
  {
   "cell_type": "code",
   "execution_count": 34,
   "metadata": {},
   "outputs": [
    {
     "name": "stdout",
     "output_type": "stream",
     "text": [
      "<class 'pandas.core.frame.DataFrame'>\n",
      "RangeIndex: 1460 entries, 0 to 1459\n",
      "Data columns (total 80 columns):\n",
      " #   Column         Non-Null Count  Dtype  \n",
      "---  ------         --------------  -----  \n",
      " 0   MSSubClass     1460 non-null   int64  \n",
      " 1   MSZoning       1460 non-null   object \n",
      " 2   LotFrontage    1201 non-null   float64\n",
      " 3   LotArea        1460 non-null   int64  \n",
      " 4   Street         1460 non-null   object \n",
      " 5   Alley          91 non-null     object \n",
      " 6   LotShape       1460 non-null   object \n",
      " 7   LandContour    1460 non-null   object \n",
      " 8   Utilities      1460 non-null   object \n",
      " 9   LotConfig      1460 non-null   object \n",
      " 10  LandSlope      1460 non-null   object \n",
      " 11  Neighborhood   1460 non-null   object \n",
      " 12  Condition1     1460 non-null   object \n",
      " 13  Condition2     1460 non-null   object \n",
      " 14  BldgType       1460 non-null   object \n",
      " 15  HouseStyle     1460 non-null   object \n",
      " 16  OverallQual    1460 non-null   int64  \n",
      " 17  OverallCond    1460 non-null   int64  \n",
      " 18  YearBuilt      1460 non-null   int64  \n",
      " 19  YearRemodAdd   1460 non-null   int64  \n",
      " 20  RoofStyle      1460 non-null   object \n",
      " 21  RoofMatl       1460 non-null   object \n",
      " 22  Exterior1st    1460 non-null   object \n",
      " 23  Exterior2nd    1460 non-null   object \n",
      " 24  MasVnrType     1452 non-null   object \n",
      " 25  MasVnrArea     1452 non-null   float64\n",
      " 26  ExterQual      1460 non-null   object \n",
      " 27  ExterCond      1460 non-null   object \n",
      " 28  Foundation     1460 non-null   object \n",
      " 29  BsmtQual       1423 non-null   object \n",
      " 30  BsmtCond       1423 non-null   object \n",
      " 31  BsmtExposure   1422 non-null   object \n",
      " 32  BsmtFinType1   1423 non-null   object \n",
      " 33  BsmtFinSF1     1460 non-null   int64  \n",
      " 34  BsmtFinType2   1422 non-null   object \n",
      " 35  BsmtFinSF2     1460 non-null   int64  \n",
      " 36  BsmtUnfSF      1460 non-null   int64  \n",
      " 37  TotalBsmtSF    1460 non-null   int64  \n",
      " 38  Heating        1460 non-null   object \n",
      " 39  HeatingQC      1460 non-null   object \n",
      " 40  CentralAir     1460 non-null   object \n",
      " 41  Electrical     1459 non-null   object \n",
      " 42  1stFlrSF       1460 non-null   int64  \n",
      " 43  2ndFlrSF       1460 non-null   int64  \n",
      " 44  LowQualFinSF   1460 non-null   int64  \n",
      " 45  GrLivArea      1460 non-null   int64  \n",
      " 46  BsmtFullBath   1460 non-null   int64  \n",
      " 47  BsmtHalfBath   1460 non-null   int64  \n",
      " 48  FullBath       1460 non-null   int64  \n",
      " 49  HalfBath       1460 non-null   int64  \n",
      " 50  BedroomAbvGr   1460 non-null   int64  \n",
      " 51  KitchenAbvGr   1460 non-null   int64  \n",
      " 52  KitchenQual    1460 non-null   object \n",
      " 53  TotRmsAbvGrd   1460 non-null   int64  \n",
      " 54  Functional     1460 non-null   object \n",
      " 55  Fireplaces     1460 non-null   int64  \n",
      " 56  FireplaceQu    770 non-null    object \n",
      " 57  GarageType     1379 non-null   object \n",
      " 58  GarageYrBlt    1379 non-null   float64\n",
      " 59  GarageFinish   1379 non-null   object \n",
      " 60  GarageCars     1460 non-null   int64  \n",
      " 61  GarageArea     1460 non-null   int64  \n",
      " 62  GarageQual     1379 non-null   object \n",
      " 63  GarageCond     1379 non-null   object \n",
      " 64  PavedDrive     1460 non-null   object \n",
      " 65  WoodDeckSF     1460 non-null   int64  \n",
      " 66  OpenPorchSF    1460 non-null   int64  \n",
      " 67  EnclosedPorch  1460 non-null   int64  \n",
      " 68  3SsnPorch      1460 non-null   int64  \n",
      " 69  ScreenPorch    1460 non-null   int64  \n",
      " 70  PoolArea       1460 non-null   int64  \n",
      " 71  PoolQC         7 non-null      object \n",
      " 72  Fence          281 non-null    object \n",
      " 73  MiscFeature    54 non-null     object \n",
      " 74  MiscVal        1460 non-null   int64  \n",
      " 75  MoSold         1460 non-null   int64  \n",
      " 76  YrSold         1460 non-null   int64  \n",
      " 77  SaleType       1460 non-null   object \n",
      " 78  SaleCondition  1460 non-null   object \n",
      " 79  SalePrice      1460 non-null   int64  \n",
      "dtypes: float64(3), int64(34), object(43)\n",
      "memory usage: 912.6+ KB\n"
     ]
    }
   ],
   "source": [
    "train.drop('Id', axis=1, inplace=True)\n",
    "train.info()"
   ]
  },
  {
   "cell_type": "code",
   "execution_count": 35,
   "metadata": {},
   "outputs": [
    {
     "name": "stdout",
     "output_type": "stream",
     "text": [
      "train set size after removing nan columns:  (1460, 75)\n"
     ]
    }
   ],
   "source": [
    "cols = ['Alley','FireplaceQu','PoolQC','Fence','MiscFeature']\n",
    "train = train.drop(cols, axis=1)\n",
    "print('train set size after removing nan columns: ', train.shape)"
   ]
  },
  {
   "cell_type": "markdown",
   "metadata": {},
   "source": [
    "Let's see how some of features are correlated with the sale price"
   ]
  },
  {
   "cell_type": "code",
   "execution_count": 36,
   "metadata": {},
   "outputs": [
    {
     "data": {
      "image/png": "[encoded data removed]",
      "text/plain": [
       "<Figure size 792x360 with 8 Axes>"
      ]
     },
     "metadata": {
      "needs_background": "light"
     },
     "output_type": "display_data"
    }
   ],
   "source": [
    "fig = plt.figure(figsize=(11, 5))\n",
    "\n",
    "ax = fig.add_subplot(2,4,1)\n",
    "ax.scatter(train.LotArea, train.SalePrice/1e3)\n",
    "ax.set_xlabel('LotArea')\n",
    "ax.set_ylabel('SalePrice (thousand $)')\n",
    "\n",
    "ax = fig.add_subplot(2,4,2)\n",
    "ax.scatter(train.GrLivArea, train.SalePrice/1e3)\n",
    "ax.set_xlabel('GrLivArea')\n",
    "\n",
    "ax = fig.add_subplot(2,4,3)\n",
    "ax.scatter(train.YearBuilt, train.SalePrice/1e3)\n",
    "ax.set_xlabel('YearBuilt')\n",
    "\n",
    "ax = fig.add_subplot(2,4,4)\n",
    "ax.scatter(train.TotalBsmtSF, train.SalePrice/1e3)\n",
    "ax.set_xlabel('TotalBsmtSF')\n",
    "\n",
    "ax = fig.add_subplot(2,4,5)\n",
    "ax.scatter(train['1stFlrSF'], train.SalePrice/1e3)\n",
    "ax.set_xlabel('1stFlrSF')\n",
    "\n",
    "ax = fig.add_subplot(2,4,6)\n",
    "ax.scatter(train.TotRmsAbvGrd, train.SalePrice/1e3)\n",
    "ax.set_xlabel('TotRmsAbvGrd')\n",
    "\n",
    "ax = fig.add_subplot(2,4,7)\n",
    "ax.scatter(train.GarageArea, train.SalePrice/1e3)\n",
    "ax.set_xlabel('GarageArea')\n",
    "\n",
    "ax = fig.add_subplot(2,4,8)\n",
    "ax.scatter(train['2ndFlrSF'], train.SalePrice/1e3)\n",
    "ax.set_xlabel('2ndFlrSF')\n",
    "\n",
    "fig.tight_layout();"
   ]
  },
  {
   "cell_type": "code",
   "execution_count": 38,
   "metadata": {},
   "outputs": [],
   "source": [
    "train = train.drop(train[(train['LotArea']>60000) & (train['SalePrice']<400000)].index)\n",
    "train = train.drop(train[(train['GrLivArea']>4000) & (train['SalePrice']<300000)].index)\n",
    "train = train.drop(train[(train['TotalBsmtSF']>4000)].index)\n",
    "train = train.drop(train[(train['1stFlrSF']>4000)].index)"
   ]
  },
  {
   "cell_type": "markdown",
   "metadata": {},
   "source": [
    "Some features are numeric and the others are categorical. Let identify the type of each feature and replace missing values in the numeric columns with its average. We can also replace missing categorical values with a random caegory. Obviously, this is something to tune to obtain the most optimal performance."
   ]
  },
  {
   "cell_type": "code",
   "execution_count": 39,
   "metadata": {},
   "outputs": [],
   "source": [
    "train['LotFrontage'] = train['LotFrontage'].fillna(train['LotFrontage'].mean())\n",
    "train['MasVnrArea'] = train['MasVnrArea'].fillna(train['MasVnrArea'].mean())\n",
    "train['GarageYrBlt'] = train['GarageYrBlt'].fillna(train['GarageYrBlt'].mean())"
   ]
  },
  {
   "cell_type": "code",
   "execution_count": 40,
   "metadata": {},
   "outputs": [],
   "source": [
    "train['MasVnrType'] = train['MasVnrType'].fillna('None');\n",
    "train['BsmtQual'] = train['BsmtQual'].fillna('TA');\n",
    "train['BsmtCond'] = train['BsmtCond'].fillna('TA');\n",
    "train['BsmtExposure'] = train['BsmtExposure'].fillna('No')\n",
    "train['BsmtFinType1'] = train['BsmtFinType1'].fillna('Unf')\n",
    "train['BsmtFinType2'] = train['BsmtFinType2'].fillna('Unf')\n",
    "train['Electrical'] = train['Electrical'].fillna('SBrkr')\n",
    "train['GarageType'] = train['GarageType'].fillna('Attchd')\n",
    "train['GarageFinish'] = train['GarageFinish'].fillna('RFn')\n",
    "train['GarageQual']= train['GarageQual'].fillna('TA')\n",
    "train['GarageCond'] = train['GarageCond'].fillna('TA')"
   ]
  },
  {
   "cell_type": "code",
   "execution_count": 41,
   "metadata": {},
   "outputs": [
    {
     "name": "stdout",
     "output_type": "stream",
     "text": [
      "<class 'pandas.core.frame.DataFrame'>\n",
      "Int64Index: 1453 entries, 0 to 1459\n",
      "Data columns (total 75 columns):\n",
      " #   Column         Non-Null Count  Dtype  \n",
      "---  ------         --------------  -----  \n",
      " 0   MSSubClass     1453 non-null   int64  \n",
      " 1   MSZoning       1453 non-null   object \n",
      " 2   LotFrontage    1453 non-null   float64\n",
      " 3   LotArea        1453 non-null   int64  \n",
      " 4   Street         1453 non-null   object \n",
      " 5   LotShape       1453 non-null   object \n",
      " 6   LandContour    1453 non-null   object \n",
      " 7   Utilities      1453 non-null   object \n",
      " 8   LotConfig      1453 non-null   object \n",
      " 9   LandSlope      1453 non-null   object \n",
      " 10  Neighborhood   1453 non-null   object \n",
      " 11  Condition1     1453 non-null   object \n",
      " 12  Condition2     1453 non-null   object \n",
      " 13  BldgType       1453 non-null   object \n",
      " 14  HouseStyle     1453 non-null   object \n",
      " 15  OverallQual    1453 non-null   int64  \n",
      " 16  OverallCond    1453 non-null   int64  \n",
      " 17  YearBuilt      1453 non-null   int64  \n",
      " 18  YearRemodAdd   1453 non-null   int64  \n",
      " 19  RoofStyle      1453 non-null   object \n",
      " 20  RoofMatl       1453 non-null   object \n",
      " 21  Exterior1st    1453 non-null   object \n",
      " 22  Exterior2nd    1453 non-null   object \n",
      " 23  MasVnrType     1453 non-null   object \n",
      " 24  MasVnrArea     1453 non-null   float64\n",
      " 25  ExterQual      1453 non-null   object \n",
      " 26  ExterCond      1453 non-null   object \n",
      " 27  Foundation     1453 non-null   object \n",
      " 28  BsmtQual       1453 non-null   object \n",
      " 29  BsmtCond       1453 non-null   object \n",
      " 30  BsmtExposure   1453 non-null   object \n",
      " 31  BsmtFinType1   1453 non-null   object \n",
      " 32  BsmtFinSF1     1453 non-null   int64  \n",
      " 33  BsmtFinType2   1453 non-null   object \n",
      " 34  BsmtFinSF2     1453 non-null   int64  \n",
      " 35  BsmtUnfSF      1453 non-null   int64  \n",
      " 36  TotalBsmtSF    1453 non-null   int64  \n",
      " 37  Heating        1453 non-null   object \n",
      " 38  HeatingQC      1453 non-null   object \n",
      " 39  CentralAir     1453 non-null   object \n",
      " 40  Electrical     1453 non-null   object \n",
      " 41  1stFlrSF       1453 non-null   int64  \n",
      " 42  2ndFlrSF       1453 non-null   int64  \n",
      " 43  LowQualFinSF   1453 non-null   int64  \n",
      " 44  GrLivArea      1453 non-null   int64  \n",
      " 45  BsmtFullBath   1453 non-null   int64  \n",
      " 46  BsmtHalfBath   1453 non-null   int64  \n",
      " 47  FullBath       1453 non-null   int64  \n",
      " 48  HalfBath       1453 non-null   int64  \n",
      " 49  BedroomAbvGr   1453 non-null   int64  \n",
      " 50  KitchenAbvGr   1453 non-null   int64  \n",
      " 51  KitchenQual    1453 non-null   object \n",
      " 52  TotRmsAbvGrd   1453 non-null   int64  \n",
      " 53  Functional     1453 non-null   object \n",
      " 54  Fireplaces     1453 non-null   int64  \n",
      " 55  GarageType     1453 non-null   object \n",
      " 56  GarageYrBlt    1453 non-null   float64\n",
      " 57  GarageFinish   1453 non-null   object \n",
      " 58  GarageCars     1453 non-null   int64  \n",
      " 59  GarageArea     1453 non-null   int64  \n",
      " 60  GarageQual     1453 non-null   object \n",
      " 61  GarageCond     1453 non-null   object \n",
      " 62  PavedDrive     1453 non-null   object \n",
      " 63  WoodDeckSF     1453 non-null   int64  \n",
      " 64  OpenPorchSF    1453 non-null   int64  \n",
      " 65  EnclosedPorch  1453 non-null   int64  \n",
      " 66  3SsnPorch      1453 non-null   int64  \n",
      " 67  ScreenPorch    1453 non-null   int64  \n",
      " 68  PoolArea       1453 non-null   int64  \n",
      " 69  MiscVal        1453 non-null   int64  \n",
      " 70  MoSold         1453 non-null   int64  \n",
      " 71  YrSold         1453 non-null   int64  \n",
      " 72  SaleType       1453 non-null   object \n",
      " 73  SaleCondition  1453 non-null   object \n",
      " 74  SalePrice      1453 non-null   int64  \n",
      "dtypes: float64(3), int64(34), object(38)\n",
      "memory usage: 862.7+ KB\n"
     ]
    }
   ],
   "source": [
    "train.info()"
   ]
  },
  {
   "cell_type": "markdown",
   "metadata": {},
   "source": [
    "Now we are going to replace categorical features with numeric values. 'LabelEncoder' can be used to normalize labels."
   ]
  },
  {
   "cell_type": "code",
   "execution_count": 42,
   "metadata": {},
   "outputs": [
    {
     "name": "stdout",
     "output_type": "stream",
     "text": [
      "<class 'pandas.core.frame.DataFrame'>\n",
      "Int64Index: 1453 entries, 0 to 1459\n",
      "Data columns (total 75 columns):\n",
      " #   Column         Non-Null Count  Dtype  \n",
      "---  ------         --------------  -----  \n",
      " 0   MSSubClass     1453 non-null   int64  \n",
      " 1   MSZoning       1453 non-null   int64  \n",
      " 2   LotFrontage    1453 non-null   float64\n",
      " 3   LotArea        1453 non-null   int64  \n",
      " 4   Street         1453 non-null   int64  \n",
      " 5   LotShape       1453 non-null   int64  \n",
      " 6   LandContour    1453 non-null   int64  \n",
      " 7   Utilities      1453 non-null   int64  \n",
      " 8   LotConfig      1453 non-null   int64  \n",
      " 9   LandSlope      1453 non-null   int64  \n",
      " 10  Neighborhood   1453 non-null   int64  \n",
      " 11  Condition1     1453 non-null   int64  \n",
      " 12  Condition2     1453 non-null   int64  \n",
      " 13  BldgType       1453 non-null   int64  \n",
      " 14  HouseStyle     1453 non-null   int64  \n",
      " 15  OverallQual    1453 non-null   int64  \n",
      " 16  OverallCond    1453 non-null   int64  \n",
      " 17  YearBuilt      1453 non-null   int64  \n",
      " 18  YearRemodAdd   1453 non-null   int64  \n",
      " 19  RoofStyle      1453 non-null   int64  \n",
      " 20  RoofMatl       1453 non-null   int64  \n",
      " 21  Exterior1st    1453 non-null   int64  \n",
      " 22  Exterior2nd    1453 non-null   int64  \n",
      " 23  MasVnrType     1453 non-null   int64  \n",
      " 24  MasVnrArea     1453 non-null   float64\n",
      " 25  ExterQual      1453 non-null   int64  \n",
      " 26  ExterCond      1453 non-null   int64  \n",
      " 27  Foundation     1453 non-null   int64  \n",
      " 28  BsmtQual       1453 non-null   int64  \n",
      " 29  BsmtCond       1453 non-null   int64  \n",
      " 30  BsmtExposure   1453 non-null   int64  \n",
      " 31  BsmtFinType1   1453 non-null   int64  \n",
      " 32  BsmtFinSF1     1453 non-null   int64  \n",
      " 33  BsmtFinType2   1453 non-null   int64  \n",
      " 34  BsmtFinSF2     1453 non-null   int64  \n",
      " 35  BsmtUnfSF      1453 non-null   int64  \n",
      " 36  TotalBsmtSF    1453 non-null   int64  \n",
      " 37  Heating        1453 non-null   int64  \n",
      " 38  HeatingQC      1453 non-null   int64  \n",
      " 39  CentralAir     1453 non-null   int64  \n",
      " 40  Electrical     1453 non-null   int64  \n",
      " 41  1stFlrSF       1453 non-null   int64  \n",
      " 42  2ndFlrSF       1453 non-null   int64  \n",
      " 43  LowQualFinSF   1453 non-null   int64  \n",
      " 44  GrLivArea      1453 non-null   int64  \n",
      " 45  BsmtFullBath   1453 non-null   int64  \n",
      " 46  BsmtHalfBath   1453 non-null   int64  \n",
      " 47  FullBath       1453 non-null   int64  \n",
      " 48  HalfBath       1453 non-null   int64  \n",
      " 49  BedroomAbvGr   1453 non-null   int64  \n",
      " 50  KitchenAbvGr   1453 non-null   int64  \n",
      " 51  KitchenQual    1453 non-null   int64  \n",
      " 52  TotRmsAbvGrd   1453 non-null   int64  \n",
      " 53  Functional     1453 non-null   int64  \n",
      " 54  Fireplaces     1453 non-null   int64  \n",
      " 55  GarageType     1453 non-null   int64  \n",
      " 56  GarageYrBlt    1453 non-null   float64\n",
      " 57  GarageFinish   1453 non-null   int64  \n",
      " 58  GarageCars     1453 non-null   int64  \n",
      " 59  GarageArea     1453 non-null   int64  \n",
      " 60  GarageQual     1453 non-null   int64  \n",
      " 61  GarageCond     1453 non-null   int64  \n",
      " 62  PavedDrive     1453 non-null   int64  \n",
      " 63  WoodDeckSF     1453 non-null   int64  \n",
      " 64  OpenPorchSF    1453 non-null   int64  \n",
      " 65  EnclosedPorch  1453 non-null   int64  \n",
      " 66  3SsnPorch      1453 non-null   int64  \n",
      " 67  ScreenPorch    1453 non-null   int64  \n",
      " 68  PoolArea       1453 non-null   int64  \n",
      " 69  MiscVal        1453 non-null   int64  \n",
      " 70  MoSold         1453 non-null   int64  \n",
      " 71  YrSold         1453 non-null   int64  \n",
      " 72  SaleType       1453 non-null   int64  \n",
      " 73  SaleCondition  1453 non-null   int64  \n",
      " 74  SalePrice      1453 non-null   int64  \n",
      "dtypes: float64(3), int64(72)\n",
      "memory usage: 862.7 KB\n"
     ]
    }
   ],
   "source": [
    "le = preprocessing.LabelEncoder()\n",
    "for col in train.columns :\n",
    "    if train[col].dtype == object : \n",
    "        le.fit(train[col])\n",
    "        train[col] = le.transform(train[col])\n",
    " \n",
    "\n",
    "train.info()"
   ]
  },
  {
   "cell_type": "markdown",
   "metadata": {},
   "source": [
    "Now we are going to z-score features and the sale prices"
   ]
  },
  {
   "cell_type": "code",
   "execution_count": 43,
   "metadata": {},
   "outputs": [],
   "source": [
    "SalePrice = train.SalePrice\n",
    "train = train.drop('SalePrice', axis=1)\n",
    "\n",
    "for col in train.columns :\n",
    "    train[col] = (train[col] - train[col].mean())/train[col].std()"
   ]
  },
  {
   "cell_type": "code",
   "execution_count": 44,
   "metadata": {},
   "outputs": [],
   "source": [
    "SalePrice = np.array(SalePrice).reshape(SalePrice.shape[0], 1)\n",
    "mu = SalePrice.mean()\n",
    "sigma = SalePrice.std()\n",
    "SalePrice = (SalePrice - mu)/sigma"
   ]
  },
  {
   "cell_type": "code",
   "execution_count": 46,
   "metadata": {},
   "outputs": [
    {
     "data": {
      "image/png": "[encoded data removed]",
      "text/plain": [
       "<Figure size 432x216 with 1 Axes>"
      ]
     },
     "metadata": {
      "needs_background": "light"
     },
     "output_type": "display_data"
    }
   ],
   "source": [
    "fig = plt.figure(figsize=(6,3))\n",
    "\n",
    "plt.hist(SalePrice, width=0.5)\n",
    "plt.xlabel('SalePrice')\n",
    "plt.ylabel('Counts');"
   ]
  },
  {
   "cell_type": "markdown",
   "metadata": {},
   "source": [
    "Save 20% of training set as cross-validation set to use it for tuning hyperparameters of the networks e.g. learning rate, number of epochs, number of hidden layers, ..."
   ]
  },
  {
   "cell_type": "code",
   "execution_count": 47,
   "metadata": {},
   "outputs": [
    {
     "name": "stdout",
     "output_type": "stream",
     "text": [
      "(1162, 74) (1162, 1) (291, 74) (291, 1)\n",
      "<class 'numpy.ndarray'> <class 'numpy.ndarray'>\n"
     ]
    }
   ],
   "source": [
    "train = train.to_numpy()\n",
    "train_x, xvalid_x, train_y, xvalid_y = model_selection.train_test_split(train, SalePrice, train_size=0.8, shuffle=True)\n",
    "print(train_x.shape, train_y.shape, xvalid_x.shape, xvalid_y.shape)\n",
    "print(type(train_x), type(train_y))"
   ]
  },
  {
   "cell_type": "markdown",
   "metadata": {},
   "source": [
    "# STEPS TO PERFORM GPR\n",
    "### 1. Create the kernel"
   ]
  },
  {
   "cell_type": "code",
   "execution_count": 48,
   "metadata": {},
   "outputs": [],
   "source": [
    "kernel = gaussian_process.kernels.DotProduct() + gaussian_process.kernels.WhiteKernel()"
   ]
  },
  {
   "cell_type": "markdown",
   "metadata": {},
   "source": [
    "### 2. Perform the regression"
   ]
  },
  {
   "cell_type": "code",
   "execution_count": 49,
   "metadata": {},
   "outputs": [],
   "source": [
    "regressor = gaussian_process.GaussianProcessRegressor(kernel=kernel)"
   ]
  },
  {
   "cell_type": "markdown",
   "metadata": {},
   "source": [
    "### 3. Fit the data\n"
   ]
  },
  {
   "cell_type": "code",
   "execution_count": 50,
   "metadata": {},
   "outputs": [],
   "source": [
    "gpr = regressor.fit(train_x, train_y)"
   ]
  },
  {
   "cell_type": "markdown",
   "metadata": {},
   "source": [
    "### 4. Examine the performance on cross-validation set\n"
   ]
  },
  {
   "cell_type": "code",
   "execution_count": 51,
   "metadata": {},
   "outputs": [],
   "source": [
    "xvalid_pred = gpr.predict(xvalid_x)"
   ]
  },
  {
   "cell_type": "code",
   "execution_count": 52,
   "metadata": {},
   "outputs": [
    {
     "data": {
      "image/png": "[encoded data removed]",
      "text/plain": [
       "<Figure size 216x216 with 1 Axes>"
      ]
     },
     "metadata": {
      "needs_background": "light"
     },
     "output_type": "display_data"
    }
   ],
   "source": [
    "fig = plt.figure(figsize=(3,3))\n",
    "\n",
    "plt.plot((xvalid_y[:,0]*sigma+mu)/1e3, (xvalid_pred[:,0]*sigma+mu)/1e3, 'bo')\n",
    "plt.plot([0,1e3], [0,1e3], 'k--')\n",
    "plt.xlabel('Sale price (per K$)')\n",
    "plt.ylabel('Predicted sale price (per K$)');"
   ]
  },
  {
   "cell_type": "markdown",
   "metadata": {},
   "source": [
    "Now we are going to clean and preprocess the test dataset just like what we did for the training dataset"
   ]
  },
  {
   "cell_type": "code",
   "execution_count": 53,
   "metadata": {},
   "outputs": [
    {
     "name": "stdout",
     "output_type": "stream",
     "text": [
      "test set size:  (1459, 79)\n",
      "<class 'pandas.core.frame.DataFrame'>\n",
      "RangeIndex: 1459 entries, 0 to 1458\n",
      "Data columns (total 79 columns):\n",
      " #   Column         Non-Null Count  Dtype  \n",
      "---  ------         --------------  -----  \n",
      " 0   MSSubClass     1459 non-null   int64  \n",
      " 1   MSZoning       1455 non-null   object \n",
      " 2   LotFrontage    1232 non-null   float64\n",
      " 3   LotArea        1459 non-null   int64  \n",
      " 4   Street         1459 non-null   object \n",
      " 5   Alley          107 non-null    object \n",
      " 6   LotShape       1459 non-null   object \n",
      " 7   LandContour    1459 non-null   object \n",
      " 8   Utilities      1457 non-null   object \n",
      " 9   LotConfig      1459 non-null   object \n",
      " 10  LandSlope      1459 non-null   object \n",
      " 11  Neighborhood   1459 non-null   object \n",
      " 12  Condition1     1459 non-null   object \n",
      " 13  Condition2     1459 non-null   object \n",
      " 14  BldgType       1459 non-null   object \n",
      " 15  HouseStyle     1459 non-null   object \n",
      " 16  OverallQual    1459 non-null   int64  \n",
      " 17  OverallCond    1459 non-null   int64  \n",
      " 18  YearBuilt      1459 non-null   int64  \n",
      " 19  YearRemodAdd   1459 non-null   int64  \n",
      " 20  RoofStyle      1459 non-null   object \n",
      " 21  RoofMatl       1459 non-null   object \n",
      " 22  Exterior1st    1458 non-null   object \n",
      " 23  Exterior2nd    1458 non-null   object \n",
      " 24  MasVnrType     1443 non-null   object \n",
      " 25  MasVnrArea     1444 non-null   float64\n",
      " 26  ExterQual      1459 non-null   object \n",
      " 27  ExterCond      1459 non-null   object \n",
      " 28  Foundation     1459 non-null   object \n",
      " 29  BsmtQual       1415 non-null   object \n",
      " 30  BsmtCond       1414 non-null   object \n",
      " 31  BsmtExposure   1415 non-null   object \n",
      " 32  BsmtFinType1   1417 non-null   object \n",
      " 33  BsmtFinSF1     1458 non-null   float64\n",
      " 34  BsmtFinType2   1417 non-null   object \n",
      " 35  BsmtFinSF2     1458 non-null   float64\n",
      " 36  BsmtUnfSF      1458 non-null   float64\n",
      " 37  TotalBsmtSF    1458 non-null   float64\n",
      " 38  Heating        1459 non-null   object \n",
      " 39  HeatingQC      1459 non-null   object \n",
      " 40  CentralAir     1459 non-null   object \n",
      " 41  Electrical     1459 non-null   object \n",
      " 42  1stFlrSF       1459 non-null   int64  \n",
      " 43  2ndFlrSF       1459 non-null   int64  \n",
      " 44  LowQualFinSF   1459 non-null   int64  \n",
      " 45  GrLivArea      1459 non-null   int64  \n",
      " 46  BsmtFullBath   1457 non-null   float64\n",
      " 47  BsmtHalfBath   1457 non-null   float64\n",
      " 48  FullBath       1459 non-null   int64  \n",
      " 49  HalfBath       1459 non-null   int64  \n",
      " 50  BedroomAbvGr   1459 non-null   int64  \n",
      " 51  KitchenAbvGr   1459 non-null   int64  \n",
      " 52  KitchenQual    1458 non-null   object \n",
      " 53  TotRmsAbvGrd   1459 non-null   int64  \n",
      " 54  Functional     1457 non-null   object \n",
      " 55  Fireplaces     1459 non-null   int64  \n",
      " 56  FireplaceQu    729 non-null    object \n",
      " 57  GarageType     1383 non-null   object \n",
      " 58  GarageYrBlt    1381 non-null   float64\n",
      " 59  GarageFinish   1381 non-null   object \n",
      " 60  GarageCars     1458 non-null   float64\n",
      " 61  GarageArea     1458 non-null   float64\n",
      " 62  GarageQual     1381 non-null   object \n",
      " 63  GarageCond     1381 non-null   object \n",
      " 64  PavedDrive     1459 non-null   object \n",
      " 65  WoodDeckSF     1459 non-null   int64  \n",
      " 66  OpenPorchSF    1459 non-null   int64  \n",
      " 67  EnclosedPorch  1459 non-null   int64  \n",
      " 68  3SsnPorch      1459 non-null   int64  \n",
      " 69  ScreenPorch    1459 non-null   int64  \n",
      " 70  PoolArea       1459 non-null   int64  \n",
      " 71  PoolQC         3 non-null      object \n",
      " 72  Fence          290 non-null    object \n",
      " 73  MiscFeature    51 non-null     object \n",
      " 74  MiscVal        1459 non-null   int64  \n",
      " 75  MoSold         1459 non-null   int64  \n",
      " 76  YrSold         1459 non-null   int64  \n",
      " 77  SaleType       1458 non-null   object \n",
      " 78  SaleCondition  1459 non-null   object \n",
      "dtypes: float64(11), int64(25), object(43)\n",
      "memory usage: 900.6+ KB\n"
     ]
    }
   ],
   "source": [
    "test = pd.read_csv('test.csv')\n",
    "\n",
    "test_ids = test.Id\n",
    "test.drop('Id', axis=1, inplace=True)\n",
    "print('test set size: ', test.shape)\n",
    "test.info()"
   ]
  },
  {
   "cell_type": "code",
   "execution_count": 54,
   "metadata": {},
   "outputs": [
    {
     "name": "stdout",
     "output_type": "stream",
     "text": [
      "test set size after removing nan columns:  (1459, 74)\n"
     ]
    }
   ],
   "source": [
    "cols = ['Alley','FireplaceQu','PoolQC','Fence','MiscFeature']\n",
    "test = test.drop(cols, axis=1)\n",
    "print('test set size after removing nan columns: ', test.shape)"
   ]
  },
  {
   "cell_type": "code",
   "execution_count": 55,
   "metadata": {},
   "outputs": [],
   "source": [
    "test['LotFrontage'] = test['LotFrontage'].fillna(test['LotFrontage'].mean())\n",
    "test['MasVnrArea'] = test['MasVnrArea'].fillna(test['MasVnrArea'].mean())\n",
    "test['GarageYrBlt'] = test['GarageYrBlt'].fillna(test['GarageYrBlt'].mean())\n",
    "\n",
    "test['MasVnrType'] = test['MasVnrType'].fillna('None');\n",
    "test['BsmtQual'] = test['BsmtQual'].fillna('TA');\n",
    "test['BsmtCond'] = test['BsmtCond'].fillna('TA');\n",
    "test['BsmtExposure'] = test['BsmtExposure'].fillna('Mn')\n",
    "test['BsmtFinType1'] = test['BsmtFinType1'].fillna('ALQ')\n",
    "test['BsmtFinType2'] = test['BsmtFinType2'].fillna('Unf')\n",
    "test['Electrical'] = test['Electrical'].fillna('SBrkr')\n",
    "test['GarageType'] = test['GarageType'].fillna('Attchd')\n",
    "test['GarageFinish'] = test['GarageFinish'].fillna('RFn')\n",
    "test['GarageQual']= test['GarageQual'].fillna('TA')\n",
    "test['GarageCond'] = test['GarageCond'].fillna('TA')"
   ]
  },
  {
   "cell_type": "code",
   "execution_count": 57,
   "metadata": {},
   "outputs": [
    {
     "name": "stdout",
     "output_type": "stream",
     "text": [
      "<class 'pandas.core.frame.DataFrame'>\n",
      "RangeIndex: 1459 entries, 0 to 1458\n",
      "Data columns (total 74 columns):\n",
      " #   Column         Non-Null Count  Dtype  \n",
      "---  ------         --------------  -----  \n",
      " 0   MSSubClass     1459 non-null   int64  \n",
      " 1   MSZoning       1455 non-null   object \n",
      " 2   LotFrontage    1459 non-null   float64\n",
      " 3   LotArea        1459 non-null   int64  \n",
      " 4   Street         1459 non-null   object \n",
      " 5   LotShape       1459 non-null   object \n",
      " 6   LandContour    1459 non-null   object \n",
      " 7   Utilities      1457 non-null   object \n",
      " 8   LotConfig      1459 non-null   object \n",
      " 9   LandSlope      1459 non-null   object \n",
      " 10  Neighborhood   1459 non-null   object \n",
      " 11  Condition1     1459 non-null   object \n",
      " 12  Condition2     1459 non-null   object \n",
      " 13  BldgType       1459 non-null   object \n",
      " 14  HouseStyle     1459 non-null   object \n",
      " 15  OverallQual    1459 non-null   int64  \n",
      " 16  OverallCond    1459 non-null   int64  \n",
      " 17  YearBuilt      1459 non-null   int64  \n",
      " 18  YearRemodAdd   1459 non-null   int64  \n",
      " 19  RoofStyle      1459 non-null   object \n",
      " 20  RoofMatl       1459 non-null   object \n",
      " 21  Exterior1st    1458 non-null   object \n",
      " 22  Exterior2nd    1458 non-null   object \n",
      " 23  MasVnrType     1459 non-null   object \n",
      " 24  MasVnrArea     1459 non-null   float64\n",
      " 25  ExterQual      1459 non-null   object \n",
      " 26  ExterCond      1459 non-null   object \n",
      " 27  Foundation     1459 non-null   object \n",
      " 28  BsmtQual       1459 non-null   object \n",
      " 29  BsmtCond       1459 non-null   object \n",
      " 30  BsmtExposure   1459 non-null   object \n",
      " 31  BsmtFinType1   1459 non-null   object \n",
      " 32  BsmtFinSF1     1459 non-null   float64\n",
      " 33  BsmtFinType2   1459 non-null   object \n",
      " 34  BsmtFinSF2     1459 non-null   float64\n",
      " 35  BsmtUnfSF      1459 non-null   float64\n",
      " 36  TotalBsmtSF    1459 non-null   float64\n",
      " 37  Heating        1459 non-null   object \n",
      " 38  HeatingQC      1459 non-null   object \n",
      " 39  CentralAir     1459 non-null   object \n",
      " 40  Electrical     1459 non-null   object \n",
      " 41  1stFlrSF       1459 non-null   int64  \n",
      " 42  2ndFlrSF       1459 non-null   int64  \n",
      " 43  LowQualFinSF   1459 non-null   int64  \n",
      " 44  GrLivArea      1459 non-null   int64  \n",
      " 45  BsmtFullBath   1459 non-null   float64\n",
      " 46  BsmtHalfBath   1459 non-null   float64\n",
      " 47  FullBath       1459 non-null   int64  \n",
      " 48  HalfBath       1459 non-null   int64  \n",
      " 49  BedroomAbvGr   1459 non-null   int64  \n",
      " 50  KitchenAbvGr   1459 non-null   int64  \n",
      " 51  KitchenQual    1458 non-null   object \n",
      " 52  TotRmsAbvGrd   1459 non-null   int64  \n",
      " 53  Functional     1457 non-null   object \n",
      " 54  Fireplaces     1459 non-null   int64  \n",
      " 55  GarageType     1459 non-null   object \n",
      " 56  GarageYrBlt    1459 non-null   float64\n",
      " 57  GarageFinish   1459 non-null   object \n",
      " 58  GarageCars     1459 non-null   float64\n",
      " 59  GarageArea     1459 non-null   float64\n",
      " 60  GarageQual     1459 non-null   object \n",
      " 61  GarageCond     1459 non-null   object \n",
      " 62  PavedDrive     1459 non-null   object \n",
      " 63  WoodDeckSF     1459 non-null   int64  \n",
      " 64  OpenPorchSF    1459 non-null   int64  \n",
      " 65  EnclosedPorch  1459 non-null   int64  \n",
      " 66  3SsnPorch      1459 non-null   int64  \n",
      " 67  ScreenPorch    1459 non-null   int64  \n",
      " 68  PoolArea       1459 non-null   int64  \n",
      " 69  MiscVal        1459 non-null   int64  \n",
      " 70  MoSold         1459 non-null   int64  \n",
      " 71  YrSold         1459 non-null   int64  \n",
      " 72  SaleType       1458 non-null   object \n",
      " 73  SaleCondition  1459 non-null   object \n",
      "dtypes: float64(11), int64(25), object(38)\n",
      "memory usage: 843.6+ KB\n"
     ]
    }
   ],
   "source": [
    "test['BsmtFinSF1'] = test['BsmtFinSF1'].fillna(test['BsmtFinSF1'].mean())\n",
    "test['BsmtFinSF2'] = test['BsmtFinSF2'].fillna(test['BsmtFinSF2'].mean())\n",
    "test['BsmtUnfSF'] = test['BsmtUnfSF'].fillna(test['BsmtUnfSF'].mean())\n",
    "test['TotalBsmtSF'] = test['TotalBsmtSF'].fillna(test['TotalBsmtSF'].mean())\n",
    "test['BsmtFullBath'] = test['BsmtFullBath'].fillna(test['BsmtFullBath'].mean())\n",
    "test['BsmtHalfBath'] = test['BsmtHalfBath'].fillna(test['BsmtHalfBath'].mean())\n",
    "test['GarageCars'] = test['GarageCars'].fillna(test['GarageCars'].mean())\n",
    "test['GarageArea'] = test['GarageArea'].fillna(test['GarageArea'].mean())\n",
    "\n",
    "test.info()"
   ]
  },
  {
   "cell_type": "code",
   "execution_count": 58,
   "metadata": {},
   "outputs": [],
   "source": [
    "le = preprocessing.LabelEncoder()\n",
    "for col in test.columns :\n",
    "    if test[col].dtype == object :\n",
    "        test[col] = test[col].astype(str) \n",
    "        le.fit(test[col])\n",
    "        test[col] = le.transform(test[col])\n",
    "        \n",
    "for col in test.columns :\n",
    "    test[col] = (test[col] - test[col].mean())/test[col].std()"
   ]
  },
  {
   "cell_type": "code",
   "execution_count": 60,
   "metadata": {},
   "outputs": [
    {
     "name": "stdout",
     "output_type": "stream",
     "text": [
      "[[119064.92021565]\n",
      " [159836.51164001]\n",
      " [184500.9602791 ]\n",
      " ...\n",
      " [167190.70123793]\n",
      " [126035.70032253]\n",
      " [233386.05316285]]\n"
     ]
    }
   ],
   "source": [
    "test_pred = gpr.predict(test)\n",
    "\n",
    "test_price_pred = test_pred*sigma + mu\n",
    "test_price_pred = test_price_pred.reshape(test_pred.shape[0], 1)\n",
    "print(test_price_pred)"
   ]
  },
  {
   "cell_type": "markdown",
   "metadata": {},
   "source": [
    "Submission file contains house IDs that are in the test set. Save the predicted prices to submit to kaggle."
   ]
  },
  {
   "cell_type": "code",
   "execution_count": 61,
   "metadata": {},
   "outputs": [],
   "source": [
    "submission = pd.read_csv('sample_submission.csv')\n",
    "submission.SalePrice = test_price_pred\n",
    "submission\n",
    "submission.to_csv ('submission.csv', index = None, header = True)"
   ]
  }
 ],
 "metadata": {
  "kernelspec": {
   "display_name": "Python 3",
   "language": "python",
   "name": "python3"
  },
  "language_info": {
   "codemirror_mode": {
    "name": "ipython",
    "version": 3
   },
   "file_extension": ".py",
   "mimetype": "text/x-python",
   "name": "python",
   "nbconvert_exporter": "python",
   "pygments_lexer": "ipython3",
   "version": "3.7.6"
  }
 },
 "nbformat": 4,
 "nbformat_minor": 4
}
