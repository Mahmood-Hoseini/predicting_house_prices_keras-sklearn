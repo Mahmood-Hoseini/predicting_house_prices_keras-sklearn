{
 "cells": [
  {
   "cell_type": "markdown",
   "metadata": {},
   "source": [
    "# Predicting house price with keras\n",
    "\n",
    "A competition project from Kaggle (https://www.kaggle.com/c/house-prices-advanced-regression-techniques/)\n",
    "\n",
    "Let's get started!"
   ]
  },
  {
   "cell_type": "markdown",
   "metadata": {},
   "source": [
    "Uncomment and run the cell below to install the Libararies we are going to use in this notebook. Skip if you have them already."
   ]
  },
  {
   "cell_type": "code",
   "execution_count": null,
   "metadata": {},
   "outputs": [],
   "source": [
    "#!pip3 install tensorflow==1.15\n",
    "#!pip3 install keras\n",
    "#!pip3 install -U scikit-learn"
   ]
  },
  {
   "cell_type": "code",
   "execution_count": 1,
   "metadata": {},
   "outputs": [
    {
     "name": "stderr",
     "output_type": "stream",
     "text": [
      "Using TensorFlow backend.\n"
     ]
    },
    {
     "name": "stdout",
     "output_type": "stream",
     "text": [
      "1.15.0\n"
     ]
    }
   ],
   "source": [
    "import numpy as np\n",
    "import matplotlib.pylab as plt\n",
    "import pandas as pd\n",
    "import os\n",
    "from sklearn import preprocessing, model_selection\n",
    "\n",
    "from keras.layers import Input, Dense, BatchNormalization, Dropout\n",
    "from keras import optimizers, regularizers, initializers, Model\n",
    "import keras.backend as K\n",
    "\n",
    "import tensorflow as tf\n",
    "print(tf.__version__)\n",
    "\n",
    "%matplotlib inline"
   ]
  },
  {
   "cell_type": "markdown",
   "metadata": {},
   "source": [
    "Load the training dataset and see what are the features does it have"
   ]
  },
  {
   "cell_type": "code",
   "execution_count": 162,
   "metadata": {},
   "outputs": [],
   "source": [
    "train = pd.read_csv('train.csv')"
   ]
  },
  {
   "cell_type": "code",
   "execution_count": 163,
   "metadata": {},
   "outputs": [
    {
     "name": "stdout",
     "output_type": "stream",
     "text": [
      "Index(['Id', 'MSSubClass', 'MSZoning', 'LotFrontage', 'LotArea', 'Street',\n",
      "       'Alley', 'LotShape', 'LandContour', 'Utilities', 'LotConfig',\n",
      "       'LandSlope', 'Neighborhood', 'Condition1', 'Condition2', 'BldgType',\n",
      "       'HouseStyle', 'OverallQual', 'OverallCond', 'YearBuilt', 'YearRemodAdd',\n",
      "       'RoofStyle', 'RoofMatl', 'Exterior1st', 'Exterior2nd', 'MasVnrType',\n",
      "       'MasVnrArea', 'ExterQual', 'ExterCond', 'Foundation', 'BsmtQual',\n",
      "       'BsmtCond', 'BsmtExposure', 'BsmtFinType1', 'BsmtFinSF1',\n",
      "       'BsmtFinType2', 'BsmtFinSF2', 'BsmtUnfSF', 'TotalBsmtSF', 'Heating',\n",
      "       'HeatingQC', 'CentralAir', 'Electrical', '1stFlrSF', '2ndFlrSF',\n",
      "       'LowQualFinSF', 'GrLivArea', 'BsmtFullBath', 'BsmtHalfBath', 'FullBath',\n",
      "       'HalfBath', 'BedroomAbvGr', 'KitchenAbvGr', 'KitchenQual',\n",
      "       'TotRmsAbvGrd', 'Functional', 'Fireplaces', 'FireplaceQu', 'GarageType',\n",
      "       'GarageYrBlt', 'GarageFinish', 'GarageCars', 'GarageArea', 'GarageQual',\n",
      "       'GarageCond', 'PavedDrive', 'WoodDeckSF', 'OpenPorchSF',\n",
      "       'EnclosedPorch', '3SsnPorch', 'ScreenPorch', 'PoolArea', 'PoolQC',\n",
      "       'Fence', 'MiscFeature', 'MiscVal', 'MoSold', 'YrSold', 'SaleType',\n",
      "       'SaleCondition', 'SalePrice'],\n",
      "      dtype='object')\n"
     ]
    }
   ],
   "source": [
    "print(train.columns)"
   ]
  },
  {
   "cell_type": "markdown",
   "metadata": {},
   "source": [
    "Remove the first column (house Ids)"
   ]
  },
  {
   "cell_type": "code",
   "execution_count": 164,
   "metadata": {},
   "outputs": [
    {
     "name": "stdout",
     "output_type": "stream",
     "text": [
      "train set size:  (1460, 80)\n"
     ]
    },
    {
     "data": {
      "text/html": [
       "<div>\n",
       "<style scoped>\n",
       "    .dataframe tbody tr th:only-of-type {\n",
       "        vertical-align: middle;\n",
       "    }\n",
       "\n",
       "    .dataframe tbody tr th {\n",
       "        vertical-align: top;\n",
       "    }\n",
       "\n",
       "    .dataframe thead th {\n",
       "        text-align: right;\n",
       "    }\n",
       "</style>\n",
       "<table border=\"1\" class=\"dataframe\">\n",
       "  <thead>\n",
       "    <tr style=\"text-align: right;\">\n",
       "      <th></th>\n",
       "      <th>MSSubClass</th>\n",
       "      <th>MSZoning</th>\n",
       "      <th>LotFrontage</th>\n",
       "      <th>LotArea</th>\n",
       "      <th>Street</th>\n",
       "      <th>Alley</th>\n",
       "      <th>LotShape</th>\n",
       "      <th>LandContour</th>\n",
       "      <th>Utilities</th>\n",
       "      <th>LotConfig</th>\n",
       "      <th>...</th>\n",
       "      <th>PoolArea</th>\n",
       "      <th>PoolQC</th>\n",
       "      <th>Fence</th>\n",
       "      <th>MiscFeature</th>\n",
       "      <th>MiscVal</th>\n",
       "      <th>MoSold</th>\n",
       "      <th>YrSold</th>\n",
       "      <th>SaleType</th>\n",
       "      <th>SaleCondition</th>\n",
       "      <th>SalePrice</th>\n",
       "    </tr>\n",
       "  </thead>\n",
       "  <tbody>\n",
       "    <tr>\n",
       "      <th>0</th>\n",
       "      <td>60</td>\n",
       "      <td>RL</td>\n",
       "      <td>65.0</td>\n",
       "      <td>8450</td>\n",
       "      <td>Pave</td>\n",
       "      <td>NaN</td>\n",
       "      <td>Reg</td>\n",
       "      <td>Lvl</td>\n",
       "      <td>AllPub</td>\n",
       "      <td>Inside</td>\n",
       "      <td>...</td>\n",
       "      <td>0</td>\n",
       "      <td>NaN</td>\n",
       "      <td>NaN</td>\n",
       "      <td>NaN</td>\n",
       "      <td>0</td>\n",
       "      <td>2</td>\n",
       "      <td>2008</td>\n",
       "      <td>WD</td>\n",
       "      <td>Normal</td>\n",
       "      <td>208500</td>\n",
       "    </tr>\n",
       "    <tr>\n",
       "      <th>1</th>\n",
       "      <td>20</td>\n",
       "      <td>RL</td>\n",
       "      <td>80.0</td>\n",
       "      <td>9600</td>\n",
       "      <td>Pave</td>\n",
       "      <td>NaN</td>\n",
       "      <td>Reg</td>\n",
       "      <td>Lvl</td>\n",
       "      <td>AllPub</td>\n",
       "      <td>FR2</td>\n",
       "      <td>...</td>\n",
       "      <td>0</td>\n",
       "      <td>NaN</td>\n",
       "      <td>NaN</td>\n",
       "      <td>NaN</td>\n",
       "      <td>0</td>\n",
       "      <td>5</td>\n",
       "      <td>2007</td>\n",
       "      <td>WD</td>\n",
       "      <td>Normal</td>\n",
       "      <td>181500</td>\n",
       "    </tr>\n",
       "    <tr>\n",
       "      <th>2</th>\n",
       "      <td>60</td>\n",
       "      <td>RL</td>\n",
       "      <td>68.0</td>\n",
       "      <td>11250</td>\n",
       "      <td>Pave</td>\n",
       "      <td>NaN</td>\n",
       "      <td>IR1</td>\n",
       "      <td>Lvl</td>\n",
       "      <td>AllPub</td>\n",
       "      <td>Inside</td>\n",
       "      <td>...</td>\n",
       "      <td>0</td>\n",
       "      <td>NaN</td>\n",
       "      <td>NaN</td>\n",
       "      <td>NaN</td>\n",
       "      <td>0</td>\n",
       "      <td>9</td>\n",
       "      <td>2008</td>\n",
       "      <td>WD</td>\n",
       "      <td>Normal</td>\n",
       "      <td>223500</td>\n",
       "    </tr>\n",
       "    <tr>\n",
       "      <th>3</th>\n",
       "      <td>70</td>\n",
       "      <td>RL</td>\n",
       "      <td>60.0</td>\n",
       "      <td>9550</td>\n",
       "      <td>Pave</td>\n",
       "      <td>NaN</td>\n",
       "      <td>IR1</td>\n",
       "      <td>Lvl</td>\n",
       "      <td>AllPub</td>\n",
       "      <td>Corner</td>\n",
       "      <td>...</td>\n",
       "      <td>0</td>\n",
       "      <td>NaN</td>\n",
       "      <td>NaN</td>\n",
       "      <td>NaN</td>\n",
       "      <td>0</td>\n",
       "      <td>2</td>\n",
       "      <td>2006</td>\n",
       "      <td>WD</td>\n",
       "      <td>Abnorml</td>\n",
       "      <td>140000</td>\n",
       "    </tr>\n",
       "    <tr>\n",
       "      <th>4</th>\n",
       "      <td>60</td>\n",
       "      <td>RL</td>\n",
       "      <td>84.0</td>\n",
       "      <td>14260</td>\n",
       "      <td>Pave</td>\n",
       "      <td>NaN</td>\n",
       "      <td>IR1</td>\n",
       "      <td>Lvl</td>\n",
       "      <td>AllPub</td>\n",
       "      <td>FR2</td>\n",
       "      <td>...</td>\n",
       "      <td>0</td>\n",
       "      <td>NaN</td>\n",
       "      <td>NaN</td>\n",
       "      <td>NaN</td>\n",
       "      <td>0</td>\n",
       "      <td>12</td>\n",
       "      <td>2008</td>\n",
       "      <td>WD</td>\n",
       "      <td>Normal</td>\n",
       "      <td>250000</td>\n",
       "    </tr>\n",
       "  </tbody>\n",
       "</table>\n",
       "<p>5 rows × 80 columns</p>\n",
       "</div>"
      ],
      "text/plain": [
       "   MSSubClass MSZoning  LotFrontage  LotArea Street Alley LotShape  \\\n",
       "0          60       RL         65.0     8450   Pave   NaN      Reg   \n",
       "1          20       RL         80.0     9600   Pave   NaN      Reg   \n",
       "2          60       RL         68.0    11250   Pave   NaN      IR1   \n",
       "3          70       RL         60.0     9550   Pave   NaN      IR1   \n",
       "4          60       RL         84.0    14260   Pave   NaN      IR1   \n",
       "\n",
       "  LandContour Utilities LotConfig  ... PoolArea PoolQC Fence MiscFeature  \\\n",
       "0         Lvl    AllPub    Inside  ...        0    NaN   NaN         NaN   \n",
       "1         Lvl    AllPub       FR2  ...        0    NaN   NaN         NaN   \n",
       "2         Lvl    AllPub    Inside  ...        0    NaN   NaN         NaN   \n",
       "3         Lvl    AllPub    Corner  ...        0    NaN   NaN         NaN   \n",
       "4         Lvl    AllPub       FR2  ...        0    NaN   NaN         NaN   \n",
       "\n",
       "  MiscVal MoSold  YrSold  SaleType  SaleCondition  SalePrice  \n",
       "0       0      2    2008        WD         Normal     208500  \n",
       "1       0      5    2007        WD         Normal     181500  \n",
       "2       0      9    2008        WD         Normal     223500  \n",
       "3       0      2    2006        WD        Abnorml     140000  \n",
       "4       0     12    2008        WD         Normal     250000  \n",
       "\n",
       "[5 rows x 80 columns]"
      ]
     },
     "execution_count": 164,
     "metadata": {},
     "output_type": "execute_result"
    }
   ],
   "source": [
    "train.drop('Id', axis=1, inplace=True)\n",
    "print('train set size: ', train.shape)\n",
    "train.head()"
   ]
  },
  {
   "cell_type": "markdown",
   "metadata": {},
   "source": [
    "Let see what percentage of data are missing in each column and drop the ones that have too many missing values"
   ]
  },
  {
   "cell_type": "code",
   "execution_count": 165,
   "metadata": {},
   "outputs": [
    {
     "name": "stdout",
     "output_type": "stream",
     "text": [
      "{'MSSubClass': 1.0, 'MSZoning': 1.0, 'LotFrontage': 0.8226027397260274, 'LotArea': 1.0, 'Street': 1.0, 'Alley': 0.06232876712328767, 'LotShape': 1.0, 'LandContour': 1.0, 'Utilities': 1.0, 'LotConfig': 1.0, 'LandSlope': 1.0, 'Neighborhood': 1.0, 'Condition1': 1.0, 'Condition2': 1.0, 'BldgType': 1.0, 'HouseStyle': 1.0, 'OverallQual': 1.0, 'OverallCond': 1.0, 'YearBuilt': 1.0, 'YearRemodAdd': 1.0, 'RoofStyle': 1.0, 'RoofMatl': 1.0, 'Exterior1st': 1.0, 'Exterior2nd': 1.0, 'MasVnrType': 0.9945205479452055, 'MasVnrArea': 0.9945205479452055, 'ExterQual': 1.0, 'ExterCond': 1.0, 'Foundation': 1.0, 'BsmtQual': 0.9746575342465753, 'BsmtCond': 0.9746575342465753, 'BsmtExposure': 0.9739726027397261, 'BsmtFinType1': 0.9746575342465753, 'BsmtFinSF1': 1.0, 'BsmtFinType2': 0.9739726027397261, 'BsmtFinSF2': 1.0, 'BsmtUnfSF': 1.0, 'TotalBsmtSF': 1.0, 'Heating': 1.0, 'HeatingQC': 1.0, 'CentralAir': 1.0, 'Electrical': 0.9993150684931507, '1stFlrSF': 1.0, '2ndFlrSF': 1.0, 'LowQualFinSF': 1.0, 'GrLivArea': 1.0, 'BsmtFullBath': 1.0, 'BsmtHalfBath': 1.0, 'FullBath': 1.0, 'HalfBath': 1.0, 'BedroomAbvGr': 1.0, 'KitchenAbvGr': 1.0, 'KitchenQual': 1.0, 'TotRmsAbvGrd': 1.0, 'Functional': 1.0, 'Fireplaces': 1.0, 'FireplaceQu': 0.5273972602739726, 'GarageType': 0.9445205479452055, 'GarageYrBlt': 0.9445205479452055, 'GarageFinish': 0.9445205479452055, 'GarageCars': 1.0, 'GarageArea': 1.0, 'GarageQual': 0.9445205479452055, 'GarageCond': 0.9445205479452055, 'PavedDrive': 1.0, 'WoodDeckSF': 1.0, 'OpenPorchSF': 1.0, 'EnclosedPorch': 1.0, '3SsnPorch': 1.0, 'ScreenPorch': 1.0, 'PoolArea': 1.0, 'PoolQC': 0.004794520547945206, 'Fence': 0.19246575342465752, 'MiscFeature': 0.036986301369863014, 'MiscVal': 1.0, 'MoSold': 1.0, 'YrSold': 1.0, 'SaleType': 1.0, 'SaleCondition': 1.0, 'SalePrice': 1.0}\n"
     ]
    }
   ],
   "source": [
    "not_nulls = {}\n",
    "for colname in train.columns :\n",
    "    not_nulls[colname] = train[colname].notnull().sum()/train.shape[0]\n",
    "    \n",
    "print(not_nulls)"
   ]
  },
  {
   "cell_type": "code",
   "execution_count": 166,
   "metadata": {},
   "outputs": [
    {
     "name": "stdout",
     "output_type": "stream",
     "text": [
      "train set size after removing nan columns:  (1460, 75)\n"
     ]
    }
   ],
   "source": [
    "cols = ['Alley','FireplaceQu','PoolQC','Fence','MiscFeature']\n",
    "train = train.drop(cols, axis=1)\n",
    "print('train set size after removing nan columns: ', train.shape)"
   ]
  },
  {
   "cell_type": "markdown",
   "metadata": {},
   "source": [
    "Let's see how some of features are correlated with the sale price"
   ]
  },
  {
   "cell_type": "code",
   "execution_count": 176,
   "metadata": {},
   "outputs": [
    {
     "data": {
      "image/png": "[encoded data removed]",
      "text/plain": [
       "<Figure size 792x360 with 8 Axes>"
      ]
     },
     "metadata": {
      "needs_background": "light"
     },
     "output_type": "display_data"
    }
   ],
   "source": [
    "fig = plt.figure(figsize=(11, 5))\n",
    "\n",
    "ax = fig.add_subplot(2,4,1)\n",
    "ax.scatter(train.LotArea, train.SalePrice/1e3)\n",
    "ax.set_xlabel('LotArea')\n",
    "ax.set_ylabel('SalePrice (thousand $)')\n",
    "\n",
    "ax = fig.add_subplot(2,4,2)\n",
    "ax.scatter(train.GrLivArea, train.SalePrice/1e3)\n",
    "ax.set_xlabel('GrLivArea')\n",
    "\n",
    "ax = fig.add_subplot(2,4,3)\n",
    "ax.scatter(train.YearBuilt, train.SalePrice/1e3)\n",
    "ax.set_xlabel('YearBuilt')\n",
    "\n",
    "ax = fig.add_subplot(2,4,4)\n",
    "ax.scatter(train.TotalBsmtSF, train.SalePrice/1e3)\n",
    "ax.set_xlabel('TotalBsmtSF')\n",
    "\n",
    "ax = fig.add_subplot(2,4,5)\n",
    "ax.scatter(train['1stFlrSF'], train.SalePrice/1e3)\n",
    "ax.set_xlabel('1stFlrSF')\n",
    "\n",
    "ax = fig.add_subplot(2,4,6)\n",
    "ax.scatter(train.TotRmsAbvGrd, train.SalePrice/1e3)\n",
    "ax.set_xlabel('TotRmsAbvGrd')\n",
    "\n",
    "ax = fig.add_subplot(2,4,7)\n",
    "ax.scatter(train.GarageArea, train.SalePrice/1e3)\n",
    "ax.set_xlabel('GarageArea')\n",
    "\n",
    "ax = fig.add_subplot(2,4,8)\n",
    "ax.scatter(train['2ndFlrSF'], train.SalePrice/1e3)\n",
    "ax.set_xlabel('2ndFlrSF')\n",
    "\n",
    "fig.tight_layout();"
   ]
  },
  {
   "cell_type": "code",
   "execution_count": 172,
   "metadata": {},
   "outputs": [],
   "source": [
    "train = train.drop(train[(train['LotArea']>60000) & (train['SalePrice']<400000)].index)\n",
    "train = train.drop(train[(train['GrLivArea']>4000) & (train['SalePrice']<300000)].index)\n",
    "train = train.drop(train[(train['TotalBsmtSF']>4000)].index)\n",
    "train = train.drop(train[(train['1stFlrSF']>4000)].index)"
   ]
  },
  {
   "cell_type": "markdown",
   "metadata": {},
   "source": [
    "Some features are numeric and the others are categorical. Let identify the type of each feature and replace missing values in the numeric columns with its average. We can also replace missing categorical values with a random caegory. Obviously, this is something to tune to obtain the most optimal performance."
   ]
  },
  {
   "cell_type": "code",
   "execution_count": 173,
   "metadata": {},
   "outputs": [
    {
     "name": "stdout",
     "output_type": "stream",
     "text": [
      "External condition:  ['TA' 'Gd' 'Fa' 'Po' 'Ex']\n",
      "Sale condition:  ['Normal' 'Abnorml' 'Partial' 'AdjLand' 'Alloca' 'Family']\n"
     ]
    }
   ],
   "source": [
    "print('External condition: ', train.ExterCond.unique())\n",
    "print('Sale condition: ', train.SaleCondition.unique())"
   ]
  },
  {
   "cell_type": "code",
   "execution_count": 174,
   "metadata": {},
   "outputs": [
    {
     "data": {
      "image/png": "[encoded data removed]",
      "text/plain": [
       "<Figure size 432x180 with 2 Axes>"
      ]
     },
     "metadata": {
      "needs_background": "light"
     },
     "output_type": "display_data"
    }
   ],
   "source": [
    "fig = plt.figure(figsize=(6,2.5))\n",
    "\n",
    "ax = fig.add_subplot(1,2,1)\n",
    "train.ExterCond.value_counts().plot(kind='bar')\n",
    "ax.set_ylabel('counts')\n",
    "\n",
    "ax = fig.add_subplot(1,2,2)\n",
    "train.SaleCondition.value_counts().plot(kind='bar');\n",
    "\n",
    "fig.tight_layout()"
   ]
  },
  {
   "cell_type": "code",
   "execution_count": 177,
   "metadata": {},
   "outputs": [],
   "source": [
    "train['LotFrontage'] = train['LotFrontage'].fillna(train['LotFrontage'].mean())\n",
    "train['MasVnrArea'] = train['MasVnrArea'].fillna(train['MasVnrArea'].mean())\n",
    "train['GarageYrBlt'] = train['GarageYrBlt'].fillna(train['GarageYrBlt'].mean())"
   ]
  },
  {
   "cell_type": "code",
   "execution_count": 178,
   "metadata": {},
   "outputs": [
    {
     "data": {
      "image/png": "[encoded data removed]",
      "text/plain": [
       "<Figure size 936x360 with 11 Axes>"
      ]
     },
     "metadata": {
      "needs_background": "light"
     },
     "output_type": "display_data"
    }
   ],
   "source": [
    "fig = plt.figure(figsize=(13,5))\n",
    "\n",
    "ax = fig.add_subplot(2,6,1)\n",
    "train.MasVnrType.value_counts().plot(kind='bar')\n",
    "ax.set_title('MasVnrType')\n",
    "\n",
    "ax = fig.add_subplot(2,6,2)\n",
    "train.BsmtQual.value_counts().plot(kind='bar');\n",
    "ax.set_title('BsmtQual')\n",
    "\n",
    "ax = fig.add_subplot(2,6,3)\n",
    "train.BsmtCond.value_counts().plot(kind='bar');\n",
    "ax.set_title('BsmtCond')\n",
    "\n",
    "ax = fig.add_subplot(2,6,4)\n",
    "train.BsmtExposure.value_counts().plot(kind='bar');\n",
    "ax.set_title('BsmtExposure')\n",
    "\n",
    "ax = fig.add_subplot(2,6,5)\n",
    "train.BsmtFinType1.value_counts().plot(kind='bar');\n",
    "ax.set_title('BsmtFinType1')\n",
    "\n",
    "ax = fig.add_subplot(2,6,6)\n",
    "train.BsmtFinType2.value_counts().plot(kind='bar');\n",
    "ax.set_title('BsmtFinType2')\n",
    "\n",
    "ax = fig.add_subplot(2,6,7)\n",
    "train.Electrical.value_counts().plot(kind='bar');\n",
    "ax.set_title('Electrical')\n",
    "\n",
    "ax = fig.add_subplot(2,6,8)\n",
    "train.GarageType.value_counts().plot(kind='bar');\n",
    "ax.set_title('GarageType')\n",
    "\n",
    "ax = fig.add_subplot(2,6,9)\n",
    "train.GarageFinish.value_counts().plot(kind='bar');\n",
    "ax.set_title('GarageFinish')\n",
    "\n",
    "ax = fig.add_subplot(2,6,10)\n",
    "train.GarageQual.value_counts().plot(kind='bar');\n",
    "ax.set_title('GarageQual')\n",
    "\n",
    "ax = fig.add_subplot(2,6,11)\n",
    "train.GarageCond.value_counts().plot(kind='bar');\n",
    "ax.set_title('GarageCond')\n",
    "\n",
    "fig.tight_layout()"
   ]
  },
  {
   "cell_type": "code",
   "execution_count": 179,
   "metadata": {},
   "outputs": [],
   "source": [
    "train['MasVnrType'] = train['MasVnrType'].fillna('None');\n",
    "train['BsmtQual'] = train['BsmtQual'].fillna('TA');\n",
    "train['BsmtCond'] = train['BsmtCond'].fillna('TA');\n",
    "train['BsmtExposure'] = train['BsmtExposure'].fillna('No')\n",
    "train['BsmtFinType1'] = train['BsmtFinType1'].fillna('Unf')\n",
    "train['BsmtFinType2'] = train['BsmtFinType2'].fillna('Unf')\n",
    "train['Electrical'] = train['Electrical'].fillna('SBrkr')\n",
    "train['GarageType'] = train['GarageType'].fillna('Attchd')\n",
    "train['GarageFinish'] = train['GarageFinish'].fillna('RFn')\n",
    "train['GarageQual']= train['GarageQual'].fillna('TA')\n",
    "train['GarageCond'] = train['GarageCond'].fillna('TA')"
   ]
  },
  {
   "cell_type": "code",
   "execution_count": 180,
   "metadata": {},
   "outputs": [
    {
     "name": "stdout",
     "output_type": "stream",
     "text": [
      "{'MSSubClass': 1.0, 'MSZoning': 1.0, 'LotFrontage': 1.0, 'LotArea': 1.0, 'Street': 1.0, 'LotShape': 1.0, 'LandContour': 1.0, 'Utilities': 1.0, 'LotConfig': 1.0, 'LandSlope': 1.0, 'Neighborhood': 1.0, 'Condition1': 1.0, 'Condition2': 1.0, 'BldgType': 1.0, 'HouseStyle': 1.0, 'OverallQual': 1.0, 'OverallCond': 1.0, 'YearBuilt': 1.0, 'YearRemodAdd': 1.0, 'RoofStyle': 1.0, 'RoofMatl': 1.0, 'Exterior1st': 1.0, 'Exterior2nd': 1.0, 'MasVnrType': 1.0, 'MasVnrArea': 1.0, 'ExterQual': 1.0, 'ExterCond': 1.0, 'Foundation': 1.0, 'BsmtQual': 1.0, 'BsmtCond': 1.0, 'BsmtExposure': 1.0, 'BsmtFinType1': 1.0, 'BsmtFinSF1': 1.0, 'BsmtFinType2': 1.0, 'BsmtFinSF2': 1.0, 'BsmtUnfSF': 1.0, 'TotalBsmtSF': 1.0, 'Heating': 1.0, 'HeatingQC': 1.0, 'CentralAir': 1.0, 'Electrical': 1.0, '1stFlrSF': 1.0, '2ndFlrSF': 1.0, 'LowQualFinSF': 1.0, 'GrLivArea': 1.0, 'BsmtFullBath': 1.0, 'BsmtHalfBath': 1.0, 'FullBath': 1.0, 'HalfBath': 1.0, 'BedroomAbvGr': 1.0, 'KitchenAbvGr': 1.0, 'KitchenQual': 1.0, 'TotRmsAbvGrd': 1.0, 'Functional': 1.0, 'Fireplaces': 1.0, 'GarageType': 1.0, 'GarageYrBlt': 1.0, 'GarageFinish': 1.0, 'GarageCars': 1.0, 'GarageArea': 1.0, 'GarageQual': 1.0, 'GarageCond': 1.0, 'PavedDrive': 1.0, 'WoodDeckSF': 1.0, 'OpenPorchSF': 1.0, 'EnclosedPorch': 1.0, '3SsnPorch': 1.0, 'ScreenPorch': 1.0, 'PoolArea': 1.0, 'MiscVal': 1.0, 'MoSold': 1.0, 'YrSold': 1.0, 'SaleType': 1.0, 'SaleCondition': 1.0, 'SalePrice': 1.0}\n"
     ]
    }
   ],
   "source": [
    "not_nulls = {}\n",
    "for colname in train.columns :\n",
    "    not_nulls[colname] = train[colname].notnull().sum()/train.shape[0]\n",
    "    \n",
    "print(not_nulls)"
   ]
  },
  {
   "cell_type": "markdown",
   "metadata": {},
   "source": [
    "Now we are going to replace categorical features with numeric values. 'LabelEncoder' can be used to normalize labels."
   ]
  },
  {
   "cell_type": "code",
   "execution_count": 181,
   "metadata": {},
   "outputs": [
    {
     "name": "stdout",
     "output_type": "stream",
     "text": [
      "{'MSSubClass': dtype('int64'), 'MSZoning': dtype('O'), 'LotFrontage': dtype('float64'), 'LotArea': dtype('int64'), 'Street': dtype('O'), 'LotShape': dtype('O'), 'LandContour': dtype('O'), 'Utilities': dtype('O'), 'LotConfig': dtype('O'), 'LandSlope': dtype('O'), 'Neighborhood': dtype('O'), 'Condition1': dtype('O'), 'Condition2': dtype('O'), 'BldgType': dtype('O'), 'HouseStyle': dtype('O'), 'OverallQual': dtype('int64'), 'OverallCond': dtype('int64'), 'YearBuilt': dtype('int64'), 'YearRemodAdd': dtype('int64'), 'RoofStyle': dtype('O'), 'RoofMatl': dtype('O'), 'Exterior1st': dtype('O'), 'Exterior2nd': dtype('O'), 'MasVnrType': dtype('O'), 'MasVnrArea': dtype('float64'), 'ExterQual': dtype('O'), 'ExterCond': dtype('O'), 'Foundation': dtype('O'), 'BsmtQual': dtype('O'), 'BsmtCond': dtype('O'), 'BsmtExposure': dtype('O'), 'BsmtFinType1': dtype('O'), 'BsmtFinSF1': dtype('int64'), 'BsmtFinType2': dtype('O'), 'BsmtFinSF2': dtype('int64'), 'BsmtUnfSF': dtype('int64'), 'TotalBsmtSF': dtype('int64'), 'Heating': dtype('O'), 'HeatingQC': dtype('O'), 'CentralAir': dtype('O'), 'Electrical': dtype('O'), '1stFlrSF': dtype('int64'), '2ndFlrSF': dtype('int64'), 'LowQualFinSF': dtype('int64'), 'GrLivArea': dtype('int64'), 'BsmtFullBath': dtype('int64'), 'BsmtHalfBath': dtype('int64'), 'FullBath': dtype('int64'), 'HalfBath': dtype('int64'), 'BedroomAbvGr': dtype('int64'), 'KitchenAbvGr': dtype('int64'), 'KitchenQual': dtype('O'), 'TotRmsAbvGrd': dtype('int64'), 'Functional': dtype('O'), 'Fireplaces': dtype('int64'), 'GarageType': dtype('O'), 'GarageYrBlt': dtype('float64'), 'GarageFinish': dtype('O'), 'GarageCars': dtype('int64'), 'GarageArea': dtype('int64'), 'GarageQual': dtype('O'), 'GarageCond': dtype('O'), 'PavedDrive': dtype('O'), 'WoodDeckSF': dtype('int64'), 'OpenPorchSF': dtype('int64'), 'EnclosedPorch': dtype('int64'), '3SsnPorch': dtype('int64'), 'ScreenPorch': dtype('int64'), 'PoolArea': dtype('int64'), 'MiscVal': dtype('int64'), 'MoSold': dtype('int64'), 'YrSold': dtype('int64'), 'SaleType': dtype('O'), 'SaleCondition': dtype('O'), 'SalePrice': dtype('int64')}\n"
     ]
    },
    {
     "data": {
      "text/html": [
       "<div>\n",
       "<style scoped>\n",
       "    .dataframe tbody tr th:only-of-type {\n",
       "        vertical-align: middle;\n",
       "    }\n",
       "\n",
       "    .dataframe tbody tr th {\n",
       "        vertical-align: top;\n",
       "    }\n",
       "\n",
       "    .dataframe thead th {\n",
       "        text-align: right;\n",
       "    }\n",
       "</style>\n",
       "<table border=\"1\" class=\"dataframe\">\n",
       "  <thead>\n",
       "    <tr style=\"text-align: right;\">\n",
       "      <th></th>\n",
       "      <th>MSSubClass</th>\n",
       "      <th>MSZoning</th>\n",
       "      <th>LotFrontage</th>\n",
       "      <th>LotArea</th>\n",
       "      <th>Street</th>\n",
       "      <th>LotShape</th>\n",
       "      <th>LandContour</th>\n",
       "      <th>Utilities</th>\n",
       "      <th>LotConfig</th>\n",
       "      <th>LandSlope</th>\n",
       "      <th>...</th>\n",
       "      <th>EnclosedPorch</th>\n",
       "      <th>3SsnPorch</th>\n",
       "      <th>ScreenPorch</th>\n",
       "      <th>PoolArea</th>\n",
       "      <th>MiscVal</th>\n",
       "      <th>MoSold</th>\n",
       "      <th>YrSold</th>\n",
       "      <th>SaleType</th>\n",
       "      <th>SaleCondition</th>\n",
       "      <th>SalePrice</th>\n",
       "    </tr>\n",
       "  </thead>\n",
       "  <tbody>\n",
       "    <tr>\n",
       "      <th>0</th>\n",
       "      <td>60</td>\n",
       "      <td>RL</td>\n",
       "      <td>65.0</td>\n",
       "      <td>8450</td>\n",
       "      <td>Pave</td>\n",
       "      <td>Reg</td>\n",
       "      <td>Lvl</td>\n",
       "      <td>AllPub</td>\n",
       "      <td>Inside</td>\n",
       "      <td>Gtl</td>\n",
       "      <td>...</td>\n",
       "      <td>0</td>\n",
       "      <td>0</td>\n",
       "      <td>0</td>\n",
       "      <td>0</td>\n",
       "      <td>0</td>\n",
       "      <td>2</td>\n",
       "      <td>2008</td>\n",
       "      <td>WD</td>\n",
       "      <td>Normal</td>\n",
       "      <td>208500</td>\n",
       "    </tr>\n",
       "    <tr>\n",
       "      <th>1</th>\n",
       "      <td>20</td>\n",
       "      <td>RL</td>\n",
       "      <td>80.0</td>\n",
       "      <td>9600</td>\n",
       "      <td>Pave</td>\n",
       "      <td>Reg</td>\n",
       "      <td>Lvl</td>\n",
       "      <td>AllPub</td>\n",
       "      <td>FR2</td>\n",
       "      <td>Gtl</td>\n",
       "      <td>...</td>\n",
       "      <td>0</td>\n",
       "      <td>0</td>\n",
       "      <td>0</td>\n",
       "      <td>0</td>\n",
       "      <td>0</td>\n",
       "      <td>5</td>\n",
       "      <td>2007</td>\n",
       "      <td>WD</td>\n",
       "      <td>Normal</td>\n",
       "      <td>181500</td>\n",
       "    </tr>\n",
       "    <tr>\n",
       "      <th>2</th>\n",
       "      <td>60</td>\n",
       "      <td>RL</td>\n",
       "      <td>68.0</td>\n",
       "      <td>11250</td>\n",
       "      <td>Pave</td>\n",
       "      <td>IR1</td>\n",
       "      <td>Lvl</td>\n",
       "      <td>AllPub</td>\n",
       "      <td>Inside</td>\n",
       "      <td>Gtl</td>\n",
       "      <td>...</td>\n",
       "      <td>0</td>\n",
       "      <td>0</td>\n",
       "      <td>0</td>\n",
       "      <td>0</td>\n",
       "      <td>0</td>\n",
       "      <td>9</td>\n",
       "      <td>2008</td>\n",
       "      <td>WD</td>\n",
       "      <td>Normal</td>\n",
       "      <td>223500</td>\n",
       "    </tr>\n",
       "    <tr>\n",
       "      <th>3</th>\n",
       "      <td>70</td>\n",
       "      <td>RL</td>\n",
       "      <td>60.0</td>\n",
       "      <td>9550</td>\n",
       "      <td>Pave</td>\n",
       "      <td>IR1</td>\n",
       "      <td>Lvl</td>\n",
       "      <td>AllPub</td>\n",
       "      <td>Corner</td>\n",
       "      <td>Gtl</td>\n",
       "      <td>...</td>\n",
       "      <td>272</td>\n",
       "      <td>0</td>\n",
       "      <td>0</td>\n",
       "      <td>0</td>\n",
       "      <td>0</td>\n",
       "      <td>2</td>\n",
       "      <td>2006</td>\n",
       "      <td>WD</td>\n",
       "      <td>Abnorml</td>\n",
       "      <td>140000</td>\n",
       "    </tr>\n",
       "    <tr>\n",
       "      <th>4</th>\n",
       "      <td>60</td>\n",
       "      <td>RL</td>\n",
       "      <td>84.0</td>\n",
       "      <td>14260</td>\n",
       "      <td>Pave</td>\n",
       "      <td>IR1</td>\n",
       "      <td>Lvl</td>\n",
       "      <td>AllPub</td>\n",
       "      <td>FR2</td>\n",
       "      <td>Gtl</td>\n",
       "      <td>...</td>\n",
       "      <td>0</td>\n",
       "      <td>0</td>\n",
       "      <td>0</td>\n",
       "      <td>0</td>\n",
       "      <td>0</td>\n",
       "      <td>12</td>\n",
       "      <td>2008</td>\n",
       "      <td>WD</td>\n",
       "      <td>Normal</td>\n",
       "      <td>250000</td>\n",
       "    </tr>\n",
       "  </tbody>\n",
       "</table>\n",
       "<p>5 rows × 75 columns</p>\n",
       "</div>"
      ],
      "text/plain": [
       "   MSSubClass MSZoning  LotFrontage  LotArea Street LotShape LandContour  \\\n",
       "0          60       RL         65.0     8450   Pave      Reg         Lvl   \n",
       "1          20       RL         80.0     9600   Pave      Reg         Lvl   \n",
       "2          60       RL         68.0    11250   Pave      IR1         Lvl   \n",
       "3          70       RL         60.0     9550   Pave      IR1         Lvl   \n",
       "4          60       RL         84.0    14260   Pave      IR1         Lvl   \n",
       "\n",
       "  Utilities LotConfig LandSlope  ... EnclosedPorch 3SsnPorch ScreenPorch  \\\n",
       "0    AllPub    Inside       Gtl  ...             0         0           0   \n",
       "1    AllPub       FR2       Gtl  ...             0         0           0   \n",
       "2    AllPub    Inside       Gtl  ...             0         0           0   \n",
       "3    AllPub    Corner       Gtl  ...           272         0           0   \n",
       "4    AllPub       FR2       Gtl  ...             0         0           0   \n",
       "\n",
       "  PoolArea MiscVal  MoSold  YrSold  SaleType  SaleCondition SalePrice  \n",
       "0        0       0       2    2008        WD         Normal    208500  \n",
       "1        0       0       5    2007        WD         Normal    181500  \n",
       "2        0       0       9    2008        WD         Normal    223500  \n",
       "3        0       0       2    2006        WD        Abnorml    140000  \n",
       "4        0       0      12    2008        WD         Normal    250000  \n",
       "\n",
       "[5 rows x 75 columns]"
      ]
     },
     "execution_count": 181,
     "metadata": {},
     "output_type": "execute_result"
    }
   ],
   "source": [
    "dt = {}\n",
    "for col in train.columns : \n",
    "    dt[col] = train[col].dtype\n",
    "\n",
    "print(dt)\n",
    "train.head()"
   ]
  },
  {
   "cell_type": "code",
   "execution_count": 182,
   "metadata": {},
   "outputs": [
    {
     "name": "stdout",
     "output_type": "stream",
     "text": [
      "{'MSSubClass': dtype('int64'), 'MSZoning': dtype('int64'), 'LotFrontage': dtype('float64'), 'LotArea': dtype('int64'), 'Street': dtype('int64'), 'LotShape': dtype('int64'), 'LandContour': dtype('int64'), 'Utilities': dtype('int64'), 'LotConfig': dtype('int64'), 'LandSlope': dtype('int64'), 'Neighborhood': dtype('int64'), 'Condition1': dtype('int64'), 'Condition2': dtype('int64'), 'BldgType': dtype('int64'), 'HouseStyle': dtype('int64'), 'OverallQual': dtype('int64'), 'OverallCond': dtype('int64'), 'YearBuilt': dtype('int64'), 'YearRemodAdd': dtype('int64'), 'RoofStyle': dtype('int64'), 'RoofMatl': dtype('int64'), 'Exterior1st': dtype('int64'), 'Exterior2nd': dtype('int64'), 'MasVnrType': dtype('int64'), 'MasVnrArea': dtype('float64'), 'ExterQual': dtype('int64'), 'ExterCond': dtype('int64'), 'Foundation': dtype('int64'), 'BsmtQual': dtype('int64'), 'BsmtCond': dtype('int64'), 'BsmtExposure': dtype('int64'), 'BsmtFinType1': dtype('int64'), 'BsmtFinSF1': dtype('int64'), 'BsmtFinType2': dtype('int64'), 'BsmtFinSF2': dtype('int64'), 'BsmtUnfSF': dtype('int64'), 'TotalBsmtSF': dtype('int64'), 'Heating': dtype('int64'), 'HeatingQC': dtype('int64'), 'CentralAir': dtype('int64'), 'Electrical': dtype('int64'), '1stFlrSF': dtype('int64'), '2ndFlrSF': dtype('int64'), 'LowQualFinSF': dtype('int64'), 'GrLivArea': dtype('int64'), 'BsmtFullBath': dtype('int64'), 'BsmtHalfBath': dtype('int64'), 'FullBath': dtype('int64'), 'HalfBath': dtype('int64'), 'BedroomAbvGr': dtype('int64'), 'KitchenAbvGr': dtype('int64'), 'KitchenQual': dtype('int64'), 'TotRmsAbvGrd': dtype('int64'), 'Functional': dtype('int64'), 'Fireplaces': dtype('int64'), 'GarageType': dtype('int64'), 'GarageYrBlt': dtype('float64'), 'GarageFinish': dtype('int64'), 'GarageCars': dtype('int64'), 'GarageArea': dtype('int64'), 'GarageQual': dtype('int64'), 'GarageCond': dtype('int64'), 'PavedDrive': dtype('int64'), 'WoodDeckSF': dtype('int64'), 'OpenPorchSF': dtype('int64'), 'EnclosedPorch': dtype('int64'), '3SsnPorch': dtype('int64'), 'ScreenPorch': dtype('int64'), 'PoolArea': dtype('int64'), 'MiscVal': dtype('int64'), 'MoSold': dtype('int64'), 'YrSold': dtype('int64'), 'SaleType': dtype('int64'), 'SaleCondition': dtype('int64'), 'SalePrice': dtype('int64')}\n"
     ]
    },
    {
     "data": {
      "text/html": [
       "<div>\n",
       "<style scoped>\n",
       "    .dataframe tbody tr th:only-of-type {\n",
       "        vertical-align: middle;\n",
       "    }\n",
       "\n",
       "    .dataframe tbody tr th {\n",
       "        vertical-align: top;\n",
       "    }\n",
       "\n",
       "    .dataframe thead th {\n",
       "        text-align: right;\n",
       "    }\n",
       "</style>\n",
       "<table border=\"1\" class=\"dataframe\">\n",
       "  <thead>\n",
       "    <tr style=\"text-align: right;\">\n",
       "      <th></th>\n",
       "      <th>MSSubClass</th>\n",
       "      <th>MSZoning</th>\n",
       "      <th>LotFrontage</th>\n",
       "      <th>LotArea</th>\n",
       "      <th>Street</th>\n",
       "      <th>LotShape</th>\n",
       "      <th>LandContour</th>\n",
       "      <th>Utilities</th>\n",
       "      <th>LotConfig</th>\n",
       "      <th>LandSlope</th>\n",
       "      <th>...</th>\n",
       "      <th>EnclosedPorch</th>\n",
       "      <th>3SsnPorch</th>\n",
       "      <th>ScreenPorch</th>\n",
       "      <th>PoolArea</th>\n",
       "      <th>MiscVal</th>\n",
       "      <th>MoSold</th>\n",
       "      <th>YrSold</th>\n",
       "      <th>SaleType</th>\n",
       "      <th>SaleCondition</th>\n",
       "      <th>SalePrice</th>\n",
       "    </tr>\n",
       "  </thead>\n",
       "  <tbody>\n",
       "    <tr>\n",
       "      <th>0</th>\n",
       "      <td>60</td>\n",
       "      <td>3</td>\n",
       "      <td>65.0</td>\n",
       "      <td>8450</td>\n",
       "      <td>1</td>\n",
       "      <td>3</td>\n",
       "      <td>3</td>\n",
       "      <td>0</td>\n",
       "      <td>4</td>\n",
       "      <td>0</td>\n",
       "      <td>...</td>\n",
       "      <td>0</td>\n",
       "      <td>0</td>\n",
       "      <td>0</td>\n",
       "      <td>0</td>\n",
       "      <td>0</td>\n",
       "      <td>2</td>\n",
       "      <td>2008</td>\n",
       "      <td>8</td>\n",
       "      <td>4</td>\n",
       "      <td>208500</td>\n",
       "    </tr>\n",
       "    <tr>\n",
       "      <th>1</th>\n",
       "      <td>20</td>\n",
       "      <td>3</td>\n",
       "      <td>80.0</td>\n",
       "      <td>9600</td>\n",
       "      <td>1</td>\n",
       "      <td>3</td>\n",
       "      <td>3</td>\n",
       "      <td>0</td>\n",
       "      <td>2</td>\n",
       "      <td>0</td>\n",
       "      <td>...</td>\n",
       "      <td>0</td>\n",
       "      <td>0</td>\n",
       "      <td>0</td>\n",
       "      <td>0</td>\n",
       "      <td>0</td>\n",
       "      <td>5</td>\n",
       "      <td>2007</td>\n",
       "      <td>8</td>\n",
       "      <td>4</td>\n",
       "      <td>181500</td>\n",
       "    </tr>\n",
       "    <tr>\n",
       "      <th>2</th>\n",
       "      <td>60</td>\n",
       "      <td>3</td>\n",
       "      <td>68.0</td>\n",
       "      <td>11250</td>\n",
       "      <td>1</td>\n",
       "      <td>0</td>\n",
       "      <td>3</td>\n",
       "      <td>0</td>\n",
       "      <td>4</td>\n",
       "      <td>0</td>\n",
       "      <td>...</td>\n",
       "      <td>0</td>\n",
       "      <td>0</td>\n",
       "      <td>0</td>\n",
       "      <td>0</td>\n",
       "      <td>0</td>\n",
       "      <td>9</td>\n",
       "      <td>2008</td>\n",
       "      <td>8</td>\n",
       "      <td>4</td>\n",
       "      <td>223500</td>\n",
       "    </tr>\n",
       "    <tr>\n",
       "      <th>3</th>\n",
       "      <td>70</td>\n",
       "      <td>3</td>\n",
       "      <td>60.0</td>\n",
       "      <td>9550</td>\n",
       "      <td>1</td>\n",
       "      <td>0</td>\n",
       "      <td>3</td>\n",
       "      <td>0</td>\n",
       "      <td>0</td>\n",
       "      <td>0</td>\n",
       "      <td>...</td>\n",
       "      <td>272</td>\n",
       "      <td>0</td>\n",
       "      <td>0</td>\n",
       "      <td>0</td>\n",
       "      <td>0</td>\n",
       "      <td>2</td>\n",
       "      <td>2006</td>\n",
       "      <td>8</td>\n",
       "      <td>0</td>\n",
       "      <td>140000</td>\n",
       "    </tr>\n",
       "    <tr>\n",
       "      <th>4</th>\n",
       "      <td>60</td>\n",
       "      <td>3</td>\n",
       "      <td>84.0</td>\n",
       "      <td>14260</td>\n",
       "      <td>1</td>\n",
       "      <td>0</td>\n",
       "      <td>3</td>\n",
       "      <td>0</td>\n",
       "      <td>2</td>\n",
       "      <td>0</td>\n",
       "      <td>...</td>\n",
       "      <td>0</td>\n",
       "      <td>0</td>\n",
       "      <td>0</td>\n",
       "      <td>0</td>\n",
       "      <td>0</td>\n",
       "      <td>12</td>\n",
       "      <td>2008</td>\n",
       "      <td>8</td>\n",
       "      <td>4</td>\n",
       "      <td>250000</td>\n",
       "    </tr>\n",
       "  </tbody>\n",
       "</table>\n",
       "<p>5 rows × 75 columns</p>\n",
       "</div>"
      ],
      "text/plain": [
       "   MSSubClass  MSZoning  LotFrontage  LotArea  Street  LotShape  LandContour  \\\n",
       "0          60         3         65.0     8450       1         3            3   \n",
       "1          20         3         80.0     9600       1         3            3   \n",
       "2          60         3         68.0    11250       1         0            3   \n",
       "3          70         3         60.0     9550       1         0            3   \n",
       "4          60         3         84.0    14260       1         0            3   \n",
       "\n",
       "   Utilities  LotConfig  LandSlope  ...  EnclosedPorch  3SsnPorch  \\\n",
       "0          0          4          0  ...              0          0   \n",
       "1          0          2          0  ...              0          0   \n",
       "2          0          4          0  ...              0          0   \n",
       "3          0          0          0  ...            272          0   \n",
       "4          0          2          0  ...              0          0   \n",
       "\n",
       "   ScreenPorch  PoolArea  MiscVal  MoSold  YrSold  SaleType  SaleCondition  \\\n",
       "0            0         0        0       2    2008         8              4   \n",
       "1            0         0        0       5    2007         8              4   \n",
       "2            0         0        0       9    2008         8              4   \n",
       "3            0         0        0       2    2006         8              0   \n",
       "4            0         0        0      12    2008         8              4   \n",
       "\n",
       "   SalePrice  \n",
       "0     208500  \n",
       "1     181500  \n",
       "2     223500  \n",
       "3     140000  \n",
       "4     250000  \n",
       "\n",
       "[5 rows x 75 columns]"
      ]
     },
     "execution_count": 182,
     "metadata": {},
     "output_type": "execute_result"
    }
   ],
   "source": [
    "le = preprocessing.LabelEncoder()\n",
    "for col in train.columns :\n",
    "    if train[col].dtype == object : \n",
    "        le.fit(train[col])\n",
    "        train[col] = le.transform(train[col])\n",
    " \n",
    "\n",
    "dt = {}\n",
    "for col in train.columns : \n",
    "    dt[col] = train[col].dtype\n",
    "\n",
    "print(dt)\n",
    "train.head()"
   ]
  },
  {
   "cell_type": "markdown",
   "metadata": {},
   "source": [
    "Take the last column of the dataset and see how well-correlated it is with all the other features"
   ]
  },
  {
   "cell_type": "code",
   "execution_count": 183,
   "metadata": {},
   "outputs": [],
   "source": [
    "SalePrice = train.SalePrice\n",
    "train = train.drop('SalePrice', axis=1)"
   ]
  },
  {
   "cell_type": "code",
   "execution_count": 184,
   "metadata": {},
   "outputs": [
    {
     "data": {
      "text/plain": [
       "<matplotlib.axes._subplots.AxesSubplot at 0x1a49ae1690>"
      ]
     },
     "execution_count": 184,
     "metadata": {},
     "output_type": "execute_result"
    },
    {
     "data": {
      "image/png": "[encoded data removed]",
      "text/plain": [
       "<Figure size 1152x216 with 1 Axes>"
      ]
     },
     "metadata": {
      "needs_background": "light"
     },
     "output_type": "display_data"
    }
   ],
   "source": [
    "fig = plt.figure(figsize=(16,3))\n",
    "train.corrwith(SalePrice).plot(kind='bar', color='r', width=0.8)"
   ]
  },
  {
   "cell_type": "markdown",
   "metadata": {},
   "source": [
    "Now we are going to z-score features and the sale prices"
   ]
  },
  {
   "cell_type": "code",
   "execution_count": 185,
   "metadata": {},
   "outputs": [],
   "source": [
    "for col in train.columns :\n",
    "    train[col] = (train[col] - train[col].mean())/train[col].std()"
   ]
  },
  {
   "cell_type": "code",
   "execution_count": 189,
   "metadata": {},
   "outputs": [],
   "source": [
    "SalePrice = np.array(SalePrice).reshape(SalePrice.shape[0], 1)\n",
    "mu = SalePrice.mean()\n",
    "sigma = SalePrice.std()\n",
    "SalePrice = (SalePrice - mu)/sigma"
   ]
  },
  {
   "cell_type": "code",
   "execution_count": 190,
   "metadata": {},
   "outputs": [
    {
     "data": {
      "image/png": "[encoded data removed]",
      "text/plain": [
       "<Figure size 432x216 with 1 Axes>"
      ]
     },
     "metadata": {
      "needs_background": "light"
     },
     "output_type": "display_data"
    }
   ],
   "source": [
    "fig = plt.figure(figsize=(6,3))\n",
    "\n",
    "plt.hist(SalePrice, width=0.5)\n",
    "plt.xlabel('SalePrice')\n",
    "plt.ylabel('Counts');"
   ]
  },
  {
   "cell_type": "markdown",
   "metadata": {},
   "source": [
    "Save 20% of training set as cross-validation set to use it for tuning hyperparameters of the networks e.g. learning rate, number of epochs, number of hidden layers, ..."
   ]
  },
  {
   "cell_type": "code",
   "execution_count": 191,
   "metadata": {},
   "outputs": [
    {
     "name": "stdout",
     "output_type": "stream",
     "text": [
      "(1162, 74) (1162, 1) (291, 74) (291, 1)\n",
      "<class 'numpy.ndarray'> <class 'numpy.ndarray'>\n"
     ]
    }
   ],
   "source": [
    "train = train.to_numpy()\n",
    "train_x, xvalid_x, train_y, xvalid_y = model_selection.train_test_split(train, SalePrice, train_size=0.8, shuffle=True)\n",
    "print(train_x.shape, train_y.shape, xvalid_x.shape, xvalid_y.shape)\n",
    "print(type(train_x), type(train_y))"
   ]
  },
  {
   "cell_type": "markdown",
   "metadata": {},
   "source": [
    "# STEPS TO MAKE A MODEL IN KERAS\n",
    "### 1. Define the model"
   ]
  },
  {
   "cell_type": "code",
   "execution_count": 192,
   "metadata": {},
   "outputs": [],
   "source": [
    "def price_model (input_shape) :\n",
    "    x_input = Input(input_shape)\n",
    "\n",
    "    x = Dense(128, activation='tanh', kernel_initializer='glorot_uniform')(x_input)\n",
    "    x = BatchNormalization(epsilon=0.01, momentum=0.99)(x)\n",
    "    \n",
    "    x = Dense(256, activation='tanh', kernel_regularizer=regularizers.l2(0.01))(x)\n",
    "    x = BatchNormalization(epsilon=0.01, momentum=0.99)(x)\n",
    "    \n",
    "    x = Dense(64, activation='tanh', kernel_regularizer=regularizers.l2(0.01))(x)\n",
    "    x = BatchNormalization(epsilon=0.01, momentum=0.99)(x)\n",
    "    \n",
    "    x = Dense(64, activation='tanh', kernel_regularizer=regularizers.l2(0.01))(x)\n",
    "    x = BatchNormalization(epsilon=0.01, momentum=0.99)(x)\n",
    "    \n",
    "    x = Dense(16, activation='tanh', kernel_regularizer=regularizers.l2(0.01))(x)\n",
    "    x = BatchNormalization(epsilon=0.01, momentum=0.99)(x)\n",
    "\n",
    "    x_output = Dense(1, activation=None, use_bias=True, kernel_regularizer=regularizers.l2(0.01),\n",
    "              bias_regularizer=regularizers.l2(0.02))(x)\n",
    "\n",
    "    model = Model(inputs=x_input, outputs=x_output, name='price_model')\n",
    "    \n",
    "    return model"
   ]
  },
  {
   "cell_type": "markdown",
   "metadata": {},
   "source": [
    "### 2. Create the model by calling the function above"
   ]
  },
  {
   "cell_type": "code",
   "execution_count": 193,
   "metadata": {},
   "outputs": [
    {
     "name": "stdout",
     "output_type": "stream",
     "text": [
      "Model: \"price_model\"\n",
      "_________________________________________________________________\n",
      "Layer (type)                 Output Shape              Param #   \n",
      "=================================================================\n",
      "input_5 (InputLayer)         (None, 74)                0         \n",
      "_________________________________________________________________\n",
      "dense_23 (Dense)             (None, 128)               9600      \n",
      "_________________________________________________________________\n",
      "batch_normalization_19 (Batc (None, 128)               512       \n",
      "_________________________________________________________________\n",
      "dense_24 (Dense)             (None, 256)               33024     \n",
      "_________________________________________________________________\n",
      "batch_normalization_20 (Batc (None, 256)               1024      \n",
      "_________________________________________________________________\n",
      "dense_25 (Dense)             (None, 64)                16448     \n",
      "_________________________________________________________________\n",
      "batch_normalization_21 (Batc (None, 64)                256       \n",
      "_________________________________________________________________\n",
      "dense_26 (Dense)             (None, 64)                4160      \n",
      "_________________________________________________________________\n",
      "batch_normalization_22 (Batc (None, 64)                256       \n",
      "_________________________________________________________________\n",
      "dense_27 (Dense)             (None, 16)                1040      \n",
      "_________________________________________________________________\n",
      "batch_normalization_23 (Batc (None, 16)                64        \n",
      "_________________________________________________________________\n",
      "dense_28 (Dense)             (None, 1)                 17        \n",
      "=================================================================\n",
      "Total params: 66,401\n",
      "Trainable params: 65,345\n",
      "Non-trainable params: 1,056\n",
      "_________________________________________________________________\n",
      "None\n"
     ]
    }
   ],
   "source": [
    "priceModel = price_model(np.shape(train_x[1,:]))\n",
    "print(priceModel.summary())"
   ]
  },
  {
   "cell_type": "markdown",
   "metadata": {},
   "source": [
    "### 3. Compile the model\n"
   ]
  },
  {
   "cell_type": "code",
   "execution_count": 194,
   "metadata": {},
   "outputs": [],
   "source": [
    "optim = optimizers.Adam(lr=0.001, beta_1=0.9, beta_2=0.99)\n",
    "priceModel.compile(optimizer=optim, loss='mean_squared_error', metrics=['accuracy'])"
   ]
  },
  {
   "cell_type": "markdown",
   "metadata": {},
   "source": [
    "### 4. Train the network\n"
   ]
  },
  {
   "cell_type": "code",
   "execution_count": 210,
   "metadata": {},
   "outputs": [
    {
     "name": "stdout",
     "output_type": "stream",
     "text": [
      "Epoch 1/100\n",
      "1162/1162 [==============================] - 0s 140us/step - loss: 0.0619 - accuracy: 0.0000e+00\n",
      "Epoch 2/100\n",
      "1162/1162 [==============================] - 0s 127us/step - loss: 0.0534 - accuracy: 0.0000e+00\n",
      "Epoch 3/100\n",
      "1162/1162 [==============================] - 0s 125us/step - loss: 0.0539 - accuracy: 0.0000e+00\n",
      "Epoch 4/100\n",
      "1162/1162 [==============================] - 0s 130us/step - loss: 0.0601 - accuracy: 0.0000e+00\n",
      "Epoch 5/100\n",
      "1162/1162 [==============================] - 0s 128us/step - loss: 0.0505 - accuracy: 0.0000e+00\n",
      "Epoch 6/100\n",
      "1162/1162 [==============================] - 0s 127us/step - loss: 0.0500 - accuracy: 0.0000e+00\n",
      "Epoch 7/100\n",
      "1162/1162 [==============================] - 0s 132us/step - loss: 0.0553 - accuracy: 0.0000e+00\n",
      "Epoch 8/100\n",
      "1162/1162 [==============================] - 0s 132us/step - loss: 0.0506 - accuracy: 0.0000e+00\n",
      "Epoch 9/100\n",
      "1162/1162 [==============================] - 0s 154us/step - loss: 0.0672 - accuracy: 0.0000e+00\n",
      "Epoch 10/100\n",
      "1162/1162 [==============================] - 0s 172us/step - loss: 0.0832 - accuracy: 0.0000e+00\n",
      "Epoch 11/100\n",
      "1162/1162 [==============================] - 0s 175us/step - loss: 0.0710 - accuracy: 0.0000e+00\n",
      "Epoch 12/100\n",
      "1162/1162 [==============================] - 0s 175us/step - loss: 0.0592 - accuracy: 0.0000e+00\n",
      "Epoch 13/100\n",
      "1162/1162 [==============================] - 0s 160us/step - loss: 0.0526 - accuracy: 0.0000e+00\n",
      "Epoch 14/100\n",
      "1162/1162 [==============================] - 0s 172us/step - loss: 0.0541 - accuracy: 0.0000e+00\n",
      "Epoch 15/100\n",
      "1162/1162 [==============================] - 0s 139us/step - loss: 0.0795 - accuracy: 0.0000e+00\n",
      "Epoch 16/100\n",
      "1162/1162 [==============================] - 0s 140us/step - loss: 0.0624 - accuracy: 0.0000e+00\n",
      "Epoch 17/100\n",
      "1162/1162 [==============================] - 0s 146us/step - loss: 0.0565 - accuracy: 0.0000e+00\n",
      "Epoch 18/100\n",
      "1162/1162 [==============================] - 0s 137us/step - loss: 0.0562 - accuracy: 0.0000e+00\n",
      "Epoch 19/100\n",
      "1162/1162 [==============================] - 0s 140us/step - loss: 0.0506 - accuracy: 0.0000e+00\n",
      "Epoch 20/100\n",
      "1162/1162 [==============================] - 0s 132us/step - loss: 0.0523 - accuracy: 0.0000e+00\n",
      "Epoch 21/100\n",
      "1162/1162 [==============================] - 0s 134us/step - loss: 0.0481 - accuracy: 0.0000e+00\n",
      "Epoch 22/100\n",
      "1162/1162 [==============================] - 0s 171us/step - loss: 0.0649 - accuracy: 0.0000e+00\n",
      "Epoch 23/100\n",
      "1162/1162 [==============================] - 0s 187us/step - loss: 0.0675 - accuracy: 0.0000e+00\n",
      "Epoch 24/100\n",
      "1162/1162 [==============================] - 0s 142us/step - loss: 0.0495 - accuracy: 0.0000e+00\n",
      "Epoch 25/100\n",
      "1162/1162 [==============================] - 0s 135us/step - loss: 0.0580 - accuracy: 0.0000e+00\n",
      "Epoch 26/100\n",
      "1162/1162 [==============================] - 0s 133us/step - loss: 0.0423 - accuracy: 0.0000e+00\n",
      "Epoch 27/100\n",
      "1162/1162 [==============================] - 0s 140us/step - loss: 0.0448 - accuracy: 0.0000e+00\n",
      "Epoch 28/100\n",
      "1162/1162 [==============================] - 0s 146us/step - loss: 0.0487 - accuracy: 0.0000e+00\n",
      "Epoch 29/100\n",
      "1162/1162 [==============================] - 0s 134us/step - loss: 0.0442 - accuracy: 0.0000e+00\n",
      "Epoch 30/100\n",
      "1162/1162 [==============================] - 0s 135us/step - loss: 0.0607 - accuracy: 0.0000e+00\n",
      "Epoch 31/100\n",
      "1162/1162 [==============================] - 0s 161us/step - loss: 0.0599 - accuracy: 0.0000e+00\n",
      "Epoch 32/100\n",
      "1162/1162 [==============================] - 0s 170us/step - loss: 0.0552 - accuracy: 0.0000e+00\n",
      "Epoch 33/100\n",
      "1162/1162 [==============================] - 0s 133us/step - loss: 0.0479 - accuracy: 0.0000e+00\n",
      "Epoch 34/100\n",
      "1162/1162 [==============================] - 0s 141us/step - loss: 0.0387 - accuracy: 0.0000e+00\n",
      "Epoch 35/100\n",
      "1162/1162 [==============================] - 0s 133us/step - loss: 0.0470 - accuracy: 0.0000e+00\n",
      "Epoch 36/100\n",
      "1162/1162 [==============================] - 0s 149us/step - loss: 0.0716 - accuracy: 0.0000e+00\n",
      "Epoch 37/100\n",
      "1162/1162 [==============================] - 0s 147us/step - loss: 0.0599 - accuracy: 0.0000e+00\n",
      "Epoch 38/100\n",
      "1162/1162 [==============================] - 0s 137us/step - loss: 0.0490 - accuracy: 0.0000e+00\n",
      "Epoch 39/100\n",
      "1162/1162 [==============================] - 0s 133us/step - loss: 0.0550 - accuracy: 0.0000e+00\n",
      "Epoch 40/100\n",
      "1162/1162 [==============================] - 0s 139us/step - loss: 0.0420 - accuracy: 0.0000e+00\n",
      "Epoch 41/100\n",
      "1162/1162 [==============================] - 0s 144us/step - loss: 0.0415 - accuracy: 0.0000e+00\n",
      "Epoch 42/100\n",
      "1162/1162 [==============================] - 0s 178us/step - loss: 0.0560 - accuracy: 0.0000e+00\n",
      "Epoch 43/100\n",
      "1162/1162 [==============================] - 0s 154us/step - loss: 0.0421 - accuracy: 0.0000e+00\n",
      "Epoch 44/100\n",
      "1162/1162 [==============================] - 0s 141us/step - loss: 0.0440 - accuracy: 0.0000e+00\n",
      "Epoch 45/100\n",
      "1162/1162 [==============================] - 0s 149us/step - loss: 0.0464 - accuracy: 0.0000e+00\n",
      "Epoch 46/100\n",
      "1162/1162 [==============================] - 0s 187us/step - loss: 0.0454 - accuracy: 0.0000e+00\n",
      "Epoch 47/100\n",
      "1162/1162 [==============================] - 0s 142us/step - loss: 0.0432 - accuracy: 0.0000e+00\n",
      "Epoch 48/100\n",
      "1162/1162 [==============================] - 0s 140us/step - loss: 0.0519 - accuracy: 0.0000e+00\n",
      "Epoch 49/100\n",
      "1162/1162 [==============================] - 0s 134us/step - loss: 0.0536 - accuracy: 0.0000e+00\n",
      "Epoch 50/100\n",
      "1162/1162 [==============================] - 0s 186us/step - loss: 0.0409 - accuracy: 0.0000e+00\n",
      "Epoch 51/100\n",
      "1162/1162 [==============================] - 0s 165us/step - loss: 0.0466 - accuracy: 0.0000e+00\n",
      "Epoch 52/100\n",
      "1162/1162 [==============================] - 0s 140us/step - loss: 0.0544 - accuracy: 0.0000e+00\n",
      "Epoch 53/100\n",
      "1162/1162 [==============================] - 0s 135us/step - loss: 0.0604 - accuracy: 0.0000e+00\n",
      "Epoch 54/100\n",
      "1162/1162 [==============================] - 0s 129us/step - loss: 0.0410 - accuracy: 0.0000e+00\n",
      "Epoch 55/100\n",
      "1162/1162 [==============================] - 0s 145us/step - loss: 0.0387 - accuracy: 0.0000e+00\n",
      "Epoch 56/100\n",
      "1162/1162 [==============================] - 0s 143us/step - loss: 0.0541 - accuracy: 0.0000e+00\n",
      "Epoch 57/100\n",
      "1162/1162 [==============================] - 0s 135us/step - loss: 0.0558 - accuracy: 0.0000e+00\n",
      "Epoch 58/100\n",
      "1162/1162 [==============================] - 0s 129us/step - loss: 0.0589 - accuracy: 0.0000e+00\n",
      "Epoch 59/100\n",
      "1162/1162 [==============================] - 0s 136us/step - loss: 0.0448 - accuracy: 0.0000e+00\n",
      "Epoch 60/100\n",
      "1162/1162 [==============================] - 0s 143us/step - loss: 0.0472 - accuracy: 0.0000e+00\n",
      "Epoch 61/100\n",
      "1162/1162 [==============================] - 0s 184us/step - loss: 0.0503 - accuracy: 0.0000e+00\n",
      "Epoch 62/100\n",
      "1162/1162 [==============================] - 0s 188us/step - loss: 0.0485 - accuracy: 0.0000e+00\n",
      "Epoch 63/100\n",
      "1162/1162 [==============================] - 0s 173us/step - loss: 0.0436 - accuracy: 0.0000e+00\n",
      "Epoch 64/100\n",
      "1162/1162 [==============================] - 0s 159us/step - loss: 0.0547 - accuracy: 0.0000e+00\n",
      "Epoch 65/100\n",
      "1162/1162 [==============================] - 0s 155us/step - loss: 0.0471 - accuracy: 0.0000e+00\n",
      "Epoch 66/100\n",
      "1162/1162 [==============================] - 0s 176us/step - loss: 0.0505 - accuracy: 0.0000e+00\n",
      "Epoch 67/100\n",
      "1162/1162 [==============================] - 0s 160us/step - loss: 0.0502 - accuracy: 0.0000e+00\n",
      "Epoch 68/100\n",
      "1162/1162 [==============================] - 0s 154us/step - loss: 0.0457 - accuracy: 0.0000e+00\n",
      "Epoch 69/100\n",
      "1162/1162 [==============================] - 0s 182us/step - loss: 0.0662 - accuracy: 0.0000e+00\n",
      "Epoch 70/100\n",
      "1162/1162 [==============================] - 0s 164us/step - loss: 0.0482 - accuracy: 0.0000e+00\n",
      "Epoch 71/100\n",
      "1162/1162 [==============================] - 0s 142us/step - loss: 0.0612 - accuracy: 0.0000e+00\n",
      "Epoch 72/100\n",
      "1162/1162 [==============================] - 0s 144us/step - loss: 0.0539 - accuracy: 0.0000e+00\n",
      "Epoch 73/100\n",
      "1162/1162 [==============================] - 0s 178us/step - loss: 0.0407 - accuracy: 0.0000e+00\n",
      "Epoch 74/100\n",
      "1162/1162 [==============================] - 0s 149us/step - loss: 0.0347 - accuracy: 0.0000e+00\n",
      "Epoch 75/100\n"
     ]
    },
    {
     "name": "stdout",
     "output_type": "stream",
     "text": [
      "1162/1162 [==============================] - 0s 139us/step - loss: 0.0708 - accuracy: 0.0000e+00\n",
      "Epoch 76/100\n",
      "1162/1162 [==============================] - 0s 137us/step - loss: 0.0563 - accuracy: 0.0000e+00\n",
      "Epoch 77/100\n",
      "1162/1162 [==============================] - 0s 145us/step - loss: 0.0540 - accuracy: 0.0000e+00\n",
      "Epoch 78/100\n",
      "1162/1162 [==============================] - 0s 140us/step - loss: 0.0424 - accuracy: 0.0000e+00\n",
      "Epoch 79/100\n",
      "1162/1162 [==============================] - 0s 165us/step - loss: 0.0342 - accuracy: 0.0000e+00\n",
      "Epoch 80/100\n",
      "1162/1162 [==============================] - 0s 162us/step - loss: 0.0400 - accuracy: 0.0000e+00\n",
      "Epoch 81/100\n",
      "1162/1162 [==============================] - 0s 144us/step - loss: 0.0660 - accuracy: 0.0000e+00\n",
      "Epoch 82/100\n",
      "1162/1162 [==============================] - 0s 136us/step - loss: 0.0399 - accuracy: 0.0000e+00\n",
      "Epoch 83/100\n",
      "1162/1162 [==============================] - 0s 155us/step - loss: 0.0358 - accuracy: 0.0000e+00\n",
      "Epoch 84/100\n",
      "1162/1162 [==============================] - 0s 155us/step - loss: 0.0359 - accuracy: 0.0000e+00\n",
      "Epoch 85/100\n",
      "1162/1162 [==============================] - 0s 149us/step - loss: 0.0533 - accuracy: 0.0000e+00\n",
      "Epoch 86/100\n",
      "1162/1162 [==============================] - 0s 143us/step - loss: 0.0565 - accuracy: 0.0000e+00\n",
      "Epoch 87/100\n",
      "1162/1162 [==============================] - 0s 142us/step - loss: 0.0440 - accuracy: 0.0000e+00\n",
      "Epoch 88/100\n",
      "1162/1162 [==============================] - 0s 150us/step - loss: 0.0383 - accuracy: 0.0000e+00\n",
      "Epoch 89/100\n",
      "1162/1162 [==============================] - 0s 159us/step - loss: 0.0447 - accuracy: 0.0000e+00\n",
      "Epoch 90/100\n",
      "1162/1162 [==============================] - 0s 172us/step - loss: 0.0421 - accuracy: 0.0000e+00\n",
      "Epoch 91/100\n",
      "1162/1162 [==============================] - 0s 145us/step - loss: 0.0402 - accuracy: 0.0000e+00\n",
      "Epoch 92/100\n",
      "1162/1162 [==============================] - 0s 139us/step - loss: 0.0307 - accuracy: 0.0000e+00\n",
      "Epoch 93/100\n",
      "1162/1162 [==============================] - 0s 137us/step - loss: 0.0358 - accuracy: 0.0000e+00\n",
      "Epoch 94/100\n",
      "1162/1162 [==============================] - 0s 143us/step - loss: 0.0397 - accuracy: 0.0000e+00\n",
      "Epoch 95/100\n",
      "1162/1162 [==============================] - 0s 175us/step - loss: 0.0383 - accuracy: 0.0000e+00\n",
      "Epoch 96/100\n",
      "1162/1162 [==============================] - 0s 143us/step - loss: 0.0398 - accuracy: 0.0000e+00\n",
      "Epoch 97/100\n",
      "1162/1162 [==============================] - 0s 141us/step - loss: 0.0374 - accuracy: 0.0000e+00\n",
      "Epoch 98/100\n",
      "1162/1162 [==============================] - 0s 142us/step - loss: 0.0381 - accuracy: 0.0000e+00\n",
      "Epoch 99/100\n",
      "1162/1162 [==============================] - 0s 148us/step - loss: 0.0448 - accuracy: 0.0000e+00\n",
      "Epoch 100/100\n",
      "1162/1162 [==============================] - 0s 178us/step - loss: 0.0314 - accuracy: 0.0000e+00\n"
     ]
    },
    {
     "data": {
      "text/plain": [
       "<keras.callbacks.callbacks.History at 0x1a4a7b43d0>"
      ]
     },
     "execution_count": 210,
     "metadata": {},
     "output_type": "execute_result"
    }
   ],
   "source": [
    "priceModel.fit(x=train_x, y=train_y, batch_size=64, epochs=100, verbose=1, shuffle=True, validation_split=0.0)"
   ]
  },
  {
   "cell_type": "markdown",
   "metadata": {},
   "source": [
    "### 5. Evaluate the network\n"
   ]
  },
  {
   "cell_type": "code",
   "execution_count": 211,
   "metadata": {},
   "outputs": [
    {
     "name": "stdout",
     "output_type": "stream",
     "text": [
      "291/291 [==============================] - 0s 51us/step\n",
      "Loss: 0.10411737746594288\n",
      "Accuracy: 0.0\n"
     ]
    }
   ],
   "source": [
    "pred = priceModel.evaluate(x=xvalid_x, y=xvalid_y, batch_size=64, verbose=1)\n",
    "print('Loss: ' + str(pred[0]))\n",
    "print('Accuracy: ' + str(pred[1]))"
   ]
  },
  {
   "cell_type": "markdown",
   "metadata": {},
   "source": [
    "How acurate our predictions are for cross-validation set?"
   ]
  },
  {
   "cell_type": "code",
   "execution_count": 200,
   "metadata": {},
   "outputs": [
    {
     "data": {
      "text/plain": [
       "(-50.0, 1050.0, -50.0, 1050.0)"
      ]
     },
     "execution_count": 200,
     "metadata": {},
     "output_type": "execute_result"
    },
    {
     "data": {
      "image/png": "[encoded data removed]",
      "text/plain": [
       "<Figure size 288x288 with 1 Axes>"
      ]
     },
     "metadata": {
      "needs_background": "light"
     },
     "output_type": "display_data"
    }
   ],
   "source": [
    "xvalid_pred = priceModel.predict(xvalid_x)\n",
    "\n",
    "fig = plt.figure(figsize=(4,4))\n",
    "plt.scatter((xvalid_y*sigma+mu)/1e3, (xvalid_pred*sigma+mu)/1e3)\n",
    "plt.plot([0,1e3], [0,1e3], 'k--')\n",
    "plt.xlabel('Sale price (per K$)')\n",
    "plt.ylabel('Predicted sale price (per K$)');"
   ]
  },
  {
   "cell_type": "markdown",
   "metadata": {},
   "source": [
    "Now we are going to clean and preprocess the test dataset just like what we did for the training dataset"
   ]
  },
  {
   "cell_type": "code",
   "execution_count": 201,
   "metadata": {},
   "outputs": [
    {
     "name": "stdout",
     "output_type": "stream",
     "text": [
      "test set size:  (1459, 79)\n",
      "{'MSSubClass': 1.0, 'MSZoning': 0.9972583961617546, 'LotFrontage': 0.8444139821795751, 'LotArea': 1.0, 'Street': 1.0, 'Alley': 0.07333790267306374, 'LotShape': 1.0, 'LandContour': 1.0, 'Utilities': 0.9986291980808774, 'LotConfig': 1.0, 'LandSlope': 1.0, 'Neighborhood': 1.0, 'Condition1': 1.0, 'Condition2': 1.0, 'BldgType': 1.0, 'HouseStyle': 1.0, 'OverallQual': 1.0, 'OverallCond': 1.0, 'YearBuilt': 1.0, 'YearRemodAdd': 1.0, 'RoofStyle': 1.0, 'RoofMatl': 1.0, 'Exterior1st': 0.9993145990404386, 'Exterior2nd': 0.9993145990404386, 'MasVnrType': 0.9890335846470185, 'MasVnrArea': 0.9897189856065799, 'ExterQual': 1.0, 'ExterCond': 1.0, 'Foundation': 1.0, 'BsmtQual': 0.969842357779301, 'BsmtCond': 0.9691569568197396, 'BsmtExposure': 0.969842357779301, 'BsmtFinType1': 0.9712131596984236, 'BsmtFinSF1': 0.9993145990404386, 'BsmtFinType2': 0.9712131596984236, 'BsmtFinSF2': 0.9993145990404386, 'BsmtUnfSF': 0.9993145990404386, 'TotalBsmtSF': 0.9993145990404386, 'Heating': 1.0, 'HeatingQC': 1.0, 'CentralAir': 1.0, 'Electrical': 1.0, '1stFlrSF': 1.0, '2ndFlrSF': 1.0, 'LowQualFinSF': 1.0, 'GrLivArea': 1.0, 'BsmtFullBath': 0.9986291980808774, 'BsmtHalfBath': 0.9986291980808774, 'FullBath': 1.0, 'HalfBath': 1.0, 'BedroomAbvGr': 1.0, 'KitchenAbvGr': 1.0, 'KitchenQual': 0.9993145990404386, 'TotRmsAbvGrd': 1.0, 'Functional': 0.9986291980808774, 'Fireplaces': 1.0, 'FireplaceQu': 0.4996572995202193, 'GarageType': 0.9479095270733379, 'GarageYrBlt': 0.9465387251542152, 'GarageFinish': 0.9465387251542152, 'GarageCars': 0.9993145990404386, 'GarageArea': 0.9993145990404386, 'GarageQual': 0.9465387251542152, 'GarageCond': 0.9465387251542152, 'PavedDrive': 1.0, 'WoodDeckSF': 1.0, 'OpenPorchSF': 1.0, 'EnclosedPorch': 1.0, '3SsnPorch': 1.0, 'ScreenPorch': 1.0, 'PoolArea': 1.0, 'PoolQC': 0.00205620287868403, 'Fence': 0.1987662782727896, 'MiscFeature': 0.03495544893762851, 'MiscVal': 1.0, 'MoSold': 1.0, 'YrSold': 1.0, 'SaleType': 0.9993145990404386, 'SaleCondition': 1.0}\n"
     ]
    }
   ],
   "source": [
    "test = pd.read_csv('test.csv')\n",
    "\n",
    "test_ids = test.Id\n",
    "test.drop('Id', axis=1, inplace=True)\n",
    "print('test set size: ', test.shape)\n",
    "\n",
    "not_nulls = {}\n",
    "for colname in test.columns :\n",
    "    not_nulls[colname] = test[colname].notnull().sum()/test.shape[0]\n",
    "    \n",
    "print(not_nulls)"
   ]
  },
  {
   "cell_type": "code",
   "execution_count": 202,
   "metadata": {},
   "outputs": [
    {
     "name": "stdout",
     "output_type": "stream",
     "text": [
      "test set size after removing nan columns:  (1459, 74)\n"
     ]
    }
   ],
   "source": [
    "cols = ['Alley','FireplaceQu','PoolQC','Fence','MiscFeature']\n",
    "test = test.drop(cols, axis=1)\n",
    "print('test set size after removing nan columns: ', test.shape)"
   ]
  },
  {
   "cell_type": "code",
   "execution_count": 203,
   "metadata": {},
   "outputs": [],
   "source": [
    "test['LotFrontage'] = test['LotFrontage'].fillna(test['LotFrontage'].mean())\n",
    "test['MasVnrArea'] = test['MasVnrArea'].fillna(test['MasVnrArea'].mean())\n",
    "test['GarageYrBlt'] = test['GarageYrBlt'].fillna(test['GarageYrBlt'].mean())\n",
    "\n",
    "test['MasVnrType'] = test['MasVnrType'].fillna('None');\n",
    "test['BsmtQual'] = test['BsmtQual'].fillna('TA');\n",
    "test['BsmtCond'] = test['BsmtCond'].fillna('TA');\n",
    "test['BsmtExposure'] = test['BsmtExposure'].fillna('Mn')\n",
    "test['BsmtFinType1'] = test['BsmtFinType1'].fillna('ALQ')\n",
    "test['BsmtFinType2'] = test['BsmtFinType2'].fillna('Unf')\n",
    "test['Electrical'] = test['Electrical'].fillna('SBrkr')\n",
    "test['GarageType'] = test['GarageType'].fillna('Attchd')\n",
    "test['GarageFinish'] = test['GarageFinish'].fillna('RFn')\n",
    "test['GarageQual']= test['GarageQual'].fillna('TA')\n",
    "test['GarageCond'] = test['GarageCond'].fillna('TA')"
   ]
  },
  {
   "cell_type": "code",
   "execution_count": 204,
   "metadata": {},
   "outputs": [
    {
     "name": "stdout",
     "output_type": "stream",
     "text": [
      "{'MSSubClass': 1.0, 'MSZoning': 0.9972583961617546, 'LotFrontage': 1.0, 'LotArea': 1.0, 'Street': 1.0, 'LotShape': 1.0, 'LandContour': 1.0, 'Utilities': 0.9986291980808774, 'LotConfig': 1.0, 'LandSlope': 1.0, 'Neighborhood': 1.0, 'Condition1': 1.0, 'Condition2': 1.0, 'BldgType': 1.0, 'HouseStyle': 1.0, 'OverallQual': 1.0, 'OverallCond': 1.0, 'YearBuilt': 1.0, 'YearRemodAdd': 1.0, 'RoofStyle': 1.0, 'RoofMatl': 1.0, 'Exterior1st': 0.9993145990404386, 'Exterior2nd': 0.9993145990404386, 'MasVnrType': 1.0, 'MasVnrArea': 1.0, 'ExterQual': 1.0, 'ExterCond': 1.0, 'Foundation': 1.0, 'BsmtQual': 1.0, 'BsmtCond': 1.0, 'BsmtExposure': 1.0, 'BsmtFinType1': 1.0, 'BsmtFinSF1': 1.0, 'BsmtFinType2': 1.0, 'BsmtFinSF2': 1.0, 'BsmtUnfSF': 1.0, 'TotalBsmtSF': 1.0, 'Heating': 1.0, 'HeatingQC': 1.0, 'CentralAir': 1.0, 'Electrical': 1.0, '1stFlrSF': 1.0, '2ndFlrSF': 1.0, 'LowQualFinSF': 1.0, 'GrLivArea': 1.0, 'BsmtFullBath': 1.0, 'BsmtHalfBath': 1.0, 'FullBath': 1.0, 'HalfBath': 1.0, 'BedroomAbvGr': 1.0, 'KitchenAbvGr': 1.0, 'KitchenQual': 0.9993145990404386, 'TotRmsAbvGrd': 1.0, 'Functional': 0.9986291980808774, 'Fireplaces': 1.0, 'GarageType': 1.0, 'GarageYrBlt': 1.0, 'GarageFinish': 1.0, 'GarageCars': 1.0, 'GarageArea': 1.0, 'GarageQual': 1.0, 'GarageCond': 1.0, 'PavedDrive': 1.0, 'WoodDeckSF': 1.0, 'OpenPorchSF': 1.0, 'EnclosedPorch': 1.0, '3SsnPorch': 1.0, 'ScreenPorch': 1.0, 'PoolArea': 1.0, 'MiscVal': 1.0, 'MoSold': 1.0, 'YrSold': 1.0, 'SaleType': 0.9993145990404386, 'SaleCondition': 1.0}\n"
     ]
    }
   ],
   "source": [
    "test['BsmtFinSF1'] = test['BsmtFinSF1'].fillna(test['BsmtFinSF1'].mean())\n",
    "test['BsmtFinSF2'] = test['BsmtFinSF2'].fillna(test['BsmtFinSF2'].mean())\n",
    "test['BsmtUnfSF'] = test['BsmtUnfSF'].fillna(test['BsmtUnfSF'].mean())\n",
    "test['TotalBsmtSF'] = test['TotalBsmtSF'].fillna(test['TotalBsmtSF'].mean())\n",
    "test['BsmtFullBath'] = test['BsmtFullBath'].fillna(test['BsmtFullBath'].mean())\n",
    "test['BsmtHalfBath'] = test['BsmtHalfBath'].fillna(test['BsmtHalfBath'].mean())\n",
    "test['GarageCars'] = test['GarageCars'].fillna(test['GarageCars'].mean())\n",
    "test['GarageArea'] = test['GarageArea'].fillna(test['GarageArea'].mean())\n",
    "\n",
    "\n",
    "not_nulls = {}\n",
    "for colname in test.columns :\n",
    "    not_nulls[colname] = test[colname].notnull().sum()/test.shape[0]\n",
    "    \n",
    "print(not_nulls)"
   ]
  },
  {
   "cell_type": "code",
   "execution_count": 205,
   "metadata": {},
   "outputs": [],
   "source": [
    "le = preprocessing.LabelEncoder()\n",
    "for col in test.columns :\n",
    "    if test[col].dtype == object :\n",
    "        test[col] = test[col].astype(str) \n",
    "        le.fit(test[col])\n",
    "        test[col] = le.transform(test[col])\n",
    "        \n",
    "for col in test.columns :\n",
    "    test[col] = (test[col] - test[col].mean())/test[col].std()"
   ]
  },
  {
   "cell_type": "code",
   "execution_count": 206,
   "metadata": {},
   "outputs": [
    {
     "name": "stdout",
     "output_type": "stream",
     "text": [
      "{'MSSubClass': dtype('float64'), 'MSZoning': dtype('float64'), 'LotFrontage': dtype('float64'), 'LotArea': dtype('float64'), 'Street': dtype('float64'), 'LotShape': dtype('float64'), 'LandContour': dtype('float64'), 'Utilities': dtype('float64'), 'LotConfig': dtype('float64'), 'LandSlope': dtype('float64'), 'Neighborhood': dtype('float64'), 'Condition1': dtype('float64'), 'Condition2': dtype('float64'), 'BldgType': dtype('float64'), 'HouseStyle': dtype('float64'), 'OverallQual': dtype('float64'), 'OverallCond': dtype('float64'), 'YearBuilt': dtype('float64'), 'YearRemodAdd': dtype('float64'), 'RoofStyle': dtype('float64'), 'RoofMatl': dtype('float64'), 'Exterior1st': dtype('float64'), 'Exterior2nd': dtype('float64'), 'MasVnrType': dtype('float64'), 'MasVnrArea': dtype('float64'), 'ExterQual': dtype('float64'), 'ExterCond': dtype('float64'), 'Foundation': dtype('float64'), 'BsmtQual': dtype('float64'), 'BsmtCond': dtype('float64'), 'BsmtExposure': dtype('float64'), 'BsmtFinType1': dtype('float64'), 'BsmtFinSF1': dtype('float64'), 'BsmtFinType2': dtype('float64'), 'BsmtFinSF2': dtype('float64'), 'BsmtUnfSF': dtype('float64'), 'TotalBsmtSF': dtype('float64'), 'Heating': dtype('float64'), 'HeatingQC': dtype('float64'), 'CentralAir': dtype('float64'), 'Electrical': dtype('float64'), '1stFlrSF': dtype('float64'), '2ndFlrSF': dtype('float64'), 'LowQualFinSF': dtype('float64'), 'GrLivArea': dtype('float64'), 'BsmtFullBath': dtype('float64'), 'BsmtHalfBath': dtype('float64'), 'FullBath': dtype('float64'), 'HalfBath': dtype('float64'), 'BedroomAbvGr': dtype('float64'), 'KitchenAbvGr': dtype('float64'), 'KitchenQual': dtype('float64'), 'TotRmsAbvGrd': dtype('float64'), 'Functional': dtype('float64'), 'Fireplaces': dtype('float64'), 'GarageType': dtype('float64'), 'GarageYrBlt': dtype('float64'), 'GarageFinish': dtype('float64'), 'GarageCars': dtype('float64'), 'GarageArea': dtype('float64'), 'GarageQual': dtype('float64'), 'GarageCond': dtype('float64'), 'PavedDrive': dtype('float64'), 'WoodDeckSF': dtype('float64'), 'OpenPorchSF': dtype('float64'), 'EnclosedPorch': dtype('float64'), '3SsnPorch': dtype('float64'), 'ScreenPorch': dtype('float64'), 'PoolArea': dtype('float64'), 'MiscVal': dtype('float64'), 'MoSold': dtype('float64'), 'YrSold': dtype('float64'), 'SaleType': dtype('float64'), 'SaleCondition': dtype('float64')}\n"
     ]
    },
    {
     "data": {
      "text/html": [
       "<div>\n",
       "<style scoped>\n",
       "    .dataframe tbody tr th:only-of-type {\n",
       "        vertical-align: middle;\n",
       "    }\n",
       "\n",
       "    .dataframe tbody tr th {\n",
       "        vertical-align: top;\n",
       "    }\n",
       "\n",
       "    .dataframe thead th {\n",
       "        text-align: right;\n",
       "    }\n",
       "</style>\n",
       "<table border=\"1\" class=\"dataframe\">\n",
       "  <thead>\n",
       "    <tr style=\"text-align: right;\">\n",
       "      <th></th>\n",
       "      <th>MSSubClass</th>\n",
       "      <th>MSZoning</th>\n",
       "      <th>LotFrontage</th>\n",
       "      <th>LotArea</th>\n",
       "      <th>Street</th>\n",
       "      <th>LotShape</th>\n",
       "      <th>LandContour</th>\n",
       "      <th>Utilities</th>\n",
       "      <th>LotConfig</th>\n",
       "      <th>LandSlope</th>\n",
       "      <th>...</th>\n",
       "      <th>OpenPorchSF</th>\n",
       "      <th>EnclosedPorch</th>\n",
       "      <th>3SsnPorch</th>\n",
       "      <th>ScreenPorch</th>\n",
       "      <th>PoolArea</th>\n",
       "      <th>MiscVal</th>\n",
       "      <th>MoSold</th>\n",
       "      <th>YrSold</th>\n",
       "      <th>SaleType</th>\n",
       "      <th>SaleCondition</th>\n",
       "    </tr>\n",
       "  </thead>\n",
       "  <tbody>\n",
       "    <tr>\n",
       "      <th>0</th>\n",
       "      <td>-0.874411</td>\n",
       "      <td>-1.492384</td>\n",
       "      <td>0.555397</td>\n",
       "      <td>0.363804</td>\n",
       "      <td>0.064238</td>\n",
       "      <td>0.742366</td>\n",
       "      <td>0.318591</td>\n",
       "      <td>-0.037037</td>\n",
       "      <td>0.572249</td>\n",
       "      <td>-0.207921</td>\n",
       "      <td>...</td>\n",
       "      <td>-0.701387</td>\n",
       "      <td>-0.360615</td>\n",
       "      <td>-0.088796</td>\n",
       "      <td>1.818336</td>\n",
       "      <td>-0.057207</td>\n",
       "      <td>-0.092212</td>\n",
       "      <td>-0.038268</td>\n",
       "      <td>1.713318</td>\n",
       "      <td>0.324134</td>\n",
       "      <td>0.201314</td>\n",
       "    </tr>\n",
       "    <tr>\n",
       "      <th>1</th>\n",
       "      <td>-0.874411</td>\n",
       "      <td>-0.046575</td>\n",
       "      <td>0.604032</td>\n",
       "      <td>0.897553</td>\n",
       "      <td>0.064238</td>\n",
       "      <td>-1.384162</td>\n",
       "      <td>0.318591</td>\n",
       "      <td>-0.037037</td>\n",
       "      <td>-1.950142</td>\n",
       "      <td>-0.207921</td>\n",
       "      <td>...</td>\n",
       "      <td>-0.178765</td>\n",
       "      <td>-0.360615</td>\n",
       "      <td>-0.088796</td>\n",
       "      <td>-0.301440</td>\n",
       "      <td>-0.057207</td>\n",
       "      <td>19.723675</td>\n",
       "      <td>-0.038268</td>\n",
       "      <td>1.713318</td>\n",
       "      <td>0.324134</td>\n",
       "      <td>0.201314</td>\n",
       "    </tr>\n",
       "    <tr>\n",
       "      <th>2</th>\n",
       "      <td>0.061330</td>\n",
       "      <td>-0.046575</td>\n",
       "      <td>0.263586</td>\n",
       "      <td>0.809368</td>\n",
       "      <td>0.064238</td>\n",
       "      <td>-1.384162</td>\n",
       "      <td>0.318591</td>\n",
       "      <td>-0.037037</td>\n",
       "      <td>0.572249</td>\n",
       "      <td>-0.207921</td>\n",
       "      <td>...</td>\n",
       "      <td>-0.207799</td>\n",
       "      <td>-0.360615</td>\n",
       "      <td>-0.088796</td>\n",
       "      <td>-0.301440</td>\n",
       "      <td>-0.057207</td>\n",
       "      <td>-0.092212</td>\n",
       "      <td>-1.140224</td>\n",
       "      <td>1.713318</td>\n",
       "      <td>0.324134</td>\n",
       "      <td>0.201314</td>\n",
       "    </tr>\n",
       "    <tr>\n",
       "      <th>3</th>\n",
       "      <td>0.061330</td>\n",
       "      <td>-0.046575</td>\n",
       "      <td>0.458126</td>\n",
       "      <td>0.032053</td>\n",
       "      <td>0.064238</td>\n",
       "      <td>-1.384162</td>\n",
       "      <td>0.318591</td>\n",
       "      <td>-0.037037</td>\n",
       "      <td>0.572249</td>\n",
       "      <td>-0.207921</td>\n",
       "      <td>...</td>\n",
       "      <td>-0.178765</td>\n",
       "      <td>-0.360615</td>\n",
       "      <td>-0.088796</td>\n",
       "      <td>-0.301440</td>\n",
       "      <td>-0.057207</td>\n",
       "      <td>-0.092212</td>\n",
       "      <td>-0.038268</td>\n",
       "      <td>1.713318</td>\n",
       "      <td>0.324134</td>\n",
       "      <td>0.201314</td>\n",
       "    </tr>\n",
       "    <tr>\n",
       "      <th>4</th>\n",
       "      <td>1.464941</td>\n",
       "      <td>-0.046575</td>\n",
       "      <td>-1.244106</td>\n",
       "      <td>-0.971475</td>\n",
       "      <td>0.064238</td>\n",
       "      <td>-1.384162</td>\n",
       "      <td>-2.533092</td>\n",
       "      <td>-0.037037</td>\n",
       "      <td>0.572249</td>\n",
       "      <td>-0.207921</td>\n",
       "      <td>...</td>\n",
       "      <td>0.489031</td>\n",
       "      <td>-0.360615</td>\n",
       "      <td>-0.088796</td>\n",
       "      <td>2.242291</td>\n",
       "      <td>-0.057207</td>\n",
       "      <td>-0.092212</td>\n",
       "      <td>-1.874861</td>\n",
       "      <td>1.713318</td>\n",
       "      <td>0.324134</td>\n",
       "      <td>0.201314</td>\n",
       "    </tr>\n",
       "  </tbody>\n",
       "</table>\n",
       "<p>5 rows × 74 columns</p>\n",
       "</div>"
      ],
      "text/plain": [
       "   MSSubClass  MSZoning  LotFrontage   LotArea    Street  LotShape  \\\n",
       "0   -0.874411 -1.492384     0.555397  0.363804  0.064238  0.742366   \n",
       "1   -0.874411 -0.046575     0.604032  0.897553  0.064238 -1.384162   \n",
       "2    0.061330 -0.046575     0.263586  0.809368  0.064238 -1.384162   \n",
       "3    0.061330 -0.046575     0.458126  0.032053  0.064238 -1.384162   \n",
       "4    1.464941 -0.046575    -1.244106 -0.971475  0.064238 -1.384162   \n",
       "\n",
       "   LandContour  Utilities  LotConfig  LandSlope  ...  OpenPorchSF  \\\n",
       "0     0.318591  -0.037037   0.572249  -0.207921  ...    -0.701387   \n",
       "1     0.318591  -0.037037  -1.950142  -0.207921  ...    -0.178765   \n",
       "2     0.318591  -0.037037   0.572249  -0.207921  ...    -0.207799   \n",
       "3     0.318591  -0.037037   0.572249  -0.207921  ...    -0.178765   \n",
       "4    -2.533092  -0.037037   0.572249  -0.207921  ...     0.489031   \n",
       "\n",
       "   EnclosedPorch  3SsnPorch  ScreenPorch  PoolArea    MiscVal    MoSold  \\\n",
       "0      -0.360615  -0.088796     1.818336 -0.057207  -0.092212 -0.038268   \n",
       "1      -0.360615  -0.088796    -0.301440 -0.057207  19.723675 -0.038268   \n",
       "2      -0.360615  -0.088796    -0.301440 -0.057207  -0.092212 -1.140224   \n",
       "3      -0.360615  -0.088796    -0.301440 -0.057207  -0.092212 -0.038268   \n",
       "4      -0.360615  -0.088796     2.242291 -0.057207  -0.092212 -1.874861   \n",
       "\n",
       "     YrSold  SaleType  SaleCondition  \n",
       "0  1.713318  0.324134       0.201314  \n",
       "1  1.713318  0.324134       0.201314  \n",
       "2  1.713318  0.324134       0.201314  \n",
       "3  1.713318  0.324134       0.201314  \n",
       "4  1.713318  0.324134       0.201314  \n",
       "\n",
       "[5 rows x 74 columns]"
      ]
     },
     "execution_count": 206,
     "metadata": {},
     "output_type": "execute_result"
    }
   ],
   "source": [
    "dt = {}\n",
    "for col in test.columns : \n",
    "    dt[col] = test[col].dtype\n",
    "\n",
    "print(dt)\n",
    "test.head()"
   ]
  },
  {
   "cell_type": "code",
   "execution_count": 207,
   "metadata": {},
   "outputs": [],
   "source": [
    "test_pred = priceModel.predict(test)\n",
    "\n",
    "test_price_pred = test_pred*sigma + mu\n",
    "test_price_pred = test_price_pred.reshape(test_pred.shape[0], 1)\n"
   ]
  },
  {
   "cell_type": "markdown",
   "metadata": {},
   "source": [
    "Submission file contains house IDs that are in the test set. Save the predicted prices to submit to kaggle."
   ]
  },
  {
   "cell_type": "code",
   "execution_count": 212,
   "metadata": {},
   "outputs": [],
   "source": [
    "submission = pd.read_csv('sample_submission.csv')\n",
    "submission.SalePrice = test_price_pred\n",
    "submission\n",
    "submission.to_csv ('submission.csv', index = None, header = True)"
   ]
  }
 ],
 "metadata": {
  "kernelspec": {
   "display_name": "Python 3",
   "language": "python",
   "name": "python3"
  },
  "language_info": {
   "codemirror_mode": {
    "name": "ipython",
    "version": 3
   },
   "file_extension": ".py",
   "mimetype": "text/x-python",
   "name": "python",
   "nbconvert_exporter": "python",
   "pygments_lexer": "ipython3",
   "version": "3.7.6"
  }
 },
 "nbformat": 4,
 "nbformat_minor": 4
}
